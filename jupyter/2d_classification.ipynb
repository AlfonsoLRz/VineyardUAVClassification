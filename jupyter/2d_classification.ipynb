{
 "cells": [
  {
   "cell_type": "code",
   "execution_count": 1,
   "metadata": {
    "collapsed": true
   },
   "outputs": [
    {
     "name": "stdout",
     "output_type": "stream",
     "text": [
      "%pylab is deprecated, use %matplotlib inline and import the required libraries.\n",
      "Populating the interactive namespace from numpy and matplotlib\n"
     ]
    },
    {
     "name": "stderr",
     "output_type": "stream",
     "text": [
      "C:\\Users\\allopezr\\Documents\\GitHub\\VineyardUAVClassification\\venv\\lib\\site-packages\\IPython\\core\\magics\\pylab.py:162: UserWarning:\n",
      "\n",
      "pylab import has clobbered these variables: ['shuffle', 'copy', 'inf', 'random']\n",
      "`%matplotlib` prevents importing * from pylab and numpy\n",
      "\n"
     ]
    }
   ],
   "source": [
    "import random\n",
    "\n",
    "from albumentations import (\n",
    "    Compose, RandomBrightness, JpegCompression, HueSaturationValue, RandomContrast, HorizontalFlip,\n",
    "    Rotate, VerticalFlip, Crop, PixelDropout, CropAndPad, RandomBrightnessContrast\n",
    ")\n",
    "import config\n",
    "import paths\n",
    "import randomness\n",
    "from cnn_builder import *\n",
    "from config import *\n",
    "from dataset_functions import *\n",
    "from functools import partial\n",
    "from hypercube_set import HypercubeSet\n",
    "from hypercube_loader import *\n",
    "import numpy as np\n",
    "import random\n",
    "import rendering\n",
    "import training_history\n",
    "\n",
    "import os\n",
    "os.environ[\"PATH\"] += os.pathsep + 'C:/Program Files/Graphviz/bin/'\n",
    "os.chdir(os.getcwd().split(\"jupyter\")[0])\n",
    "\n",
    "inf = 2e32\n",
    "\n",
    "%load_ext autoreload\n",
    "%autoreload 2\n",
    "%pylab inline\n",
    "\n",
    "read_json_config(paths.config_file, network_type=None)"
   ]
  },
  {
   "cell_type": "code",
   "execution_count": 2,
   "outputs": [
    {
     "name": "stdout",
     "output_type": "stream",
     "text": [
      "Reading media/Mateus_2022/red\\raw_112_rf.hdr ...\n",
      "[0. 1. 2. 3. 4. 5. 6. 7. 8.]\n",
      "Reading media/Mateus_2022/red\\raw_1984_rf.hdr ...\n",
      "[0. 1. 2. 3. 4. 5. 6. 7. 8.]\n",
      "Reading media/Mateus_2022/red\\raw_3904_rf.hdr ...\n",
      "[0. 1. 2. 3. 4. 5. 6. 7. 8.]\n",
      "Reading media/Mateus_2022/red\\raw_5744_rf.hdr ...\n",
      "[0. 1. 2. 3. 4. 5. 6. 7. 8.]\n",
      "Reading media/Mateus_2022/red\\raw_7584_rf.hdr ...\n",
      "[0. 1. 2. 3. 4.]\n"
     ]
    }
   ],
   "source": [
    "hc_array_red, max_class_idx = load_hypercubes(plot_hc=False, plot_mask=False, n_max_cubes=inf, folder='media/Mateus_2022/red/')"
   ],
   "metadata": {
    "collapsed": false
   }
  },
  {
   "cell_type": "code",
   "execution_count": 20,
   "outputs": [
    {
     "name": "stdout",
     "output_type": "stream",
     "text": [
      "Reading media/Mateus_2022/white\\raw_11888_rf.hdr ...\n",
      "[ 0.  9. 10. 11.]\n",
      "Reading media/Mateus_2022/white\\raw_13040_rf.hdr ...\n",
      "[ 0.  9. 10. 11.]\n",
      "Reading media/Mateus_2022/white\\raw_15040_rf.hdr ...\n",
      "[ 0.  9. 10.]\n",
      "Reading media/Mateus_2022/white\\raw_16064_rf.hdr ...\n",
      "[ 0.  9. 10. 11. 12. 13. 14.]\n",
      "Reading media/Mateus_2022/white\\raw_18064_rf.hdr ...\n",
      "[ 0.  9. 10. 11. 12. 13.]\n",
      "Reading media/Mateus_2022/white\\raw_19008_rf.hdr ...\n",
      "[ 0.  9. 10. 11. 12. 13.]\n",
      "Reading media/Mateus_2022/white\\raw_9888_rf.hdr ...\n",
      "[ 0.  9. 10. 11.]\n"
     ]
    }
   ],
   "source": [
    "hc_array_white, max_class_idx = load_hypercubes(plot_hc=False, plot_mask=False, n_max_cubes=inf, folder='media/Mateus_2022/white/', baseline_class_idx=max_class_idx)"
   ],
   "metadata": {
    "collapsed": false
   }
  },
  {
   "cell_type": "code",
   "execution_count": 6,
   "outputs": [],
   "source": [
    "hc_array = hc_array_red + hc_array_white\n",
    "hc_set = HypercubeSet(hc_array)"
   ],
   "metadata": {
    "collapsed": false
   }
  },
  {
   "cell_type": "code",
   "execution_count": 7,
   "outputs": [],
   "source": [
    "hc_set.identify_ground_samples()"
   ],
   "metadata": {
    "collapsed": false
   }
  },
  {
   "cell_type": "code",
   "execution_count": 9,
   "outputs": [],
   "source": [
    "network_type = 'allopezr_2d'\n",
    "read_json_config(paths.config_file, network_type=network_type)\n",
    "network_name = get_name(network_type)\n",
    "\n",
    "read_json_config(paths.config_file, network_type=network_type)\n",
    "\n",
    "hc_set.split_hypercubes(test_percentage=test_split, patch_size=config.patch_size, patch_overlapping=config.patch_overlapping)"
   ],
   "metadata": {
    "collapsed": false
   }
  },
  {
   "cell_type": "code",
   "execution_count": 10,
   "outputs": [
    {
     "name": "stdout",
     "output_type": "stream",
     "text": [
      "|████████████████████████████████████████| 20/20 [100%] in 48.9s (0.40/s)                                               \n"
     ]
    },
    {
     "data": {
      "text/plain": "(FactorAnalysis(n_components=30, random_state=42), StandardScaler())"
     },
     "execution_count": 10,
     "metadata": {},
     "output_type": "execute_result"
    }
   ],
   "source": [
    "hc_set.standardize()"
   ],
   "metadata": {
    "collapsed": false
   }
  },
  {
   "cell_type": "code",
   "execution_count": 11,
   "outputs": [
    {
     "name": "stdout",
     "output_type": "stream",
     "text": [
      "Splitting hypercube:  <hypercube.Hypercube object at 0x000001D0857EBD90>\n",
      "patches shape:  (28611, 23, 23, 30)\n",
      "labels shape:  (28611,)\n",
      "Splitting hypercube:  <hypercube.Hypercube object at 0x000001D085829670>\n",
      "patches shape:  (29684, 23, 23, 30)\n",
      "labels shape:  (29684,)\n",
      "Splitting hypercube:  <hypercube.Hypercube object at 0x000001D085829970>\n",
      "patches shape:  (23240, 23, 23, 30)\n",
      "labels shape:  (23240,)\n",
      "Splitting hypercube:  <hypercube.Hypercube object at 0x000001D085829490>\n",
      "patches shape:  (21374, 23, 23, 30)\n",
      "labels shape:  (21374,)\n",
      "Splitting hypercube:  <hypercube.Hypercube object at 0x000001D085829160>\n",
      "patches shape:  (1978, 23, 23, 30)\n",
      "labels shape:  (1978,)\n"
     ]
    }
   ],
   "source": [
    "print(config.test_split)"
   ],
   "metadata": {
    "collapsed": false
   }
  },
  {
   "cell_type": "code",
   "execution_count": 12,
   "outputs": [
    {
     "name": "stdout",
     "output_type": "stream",
     "text": [
      "Splitting hypercube:  <hypercube.Hypercube object at 0x000001D0857EBD90>\n",
      "patches shape:  (28543, 23, 23, 30)\n",
      "labels shape:  (28543,)\n",
      "Splitting hypercube:  <hypercube.Hypercube object at 0x000001D085829670>\n",
      "patches shape:  (29736, 23, 23, 30)\n",
      "labels shape:  (29736,)\n",
      "Splitting hypercube:  <hypercube.Hypercube object at 0x000001D085829970>\n",
      "patches shape:  (23316, 23, 23, 30)\n",
      "labels shape:  (23316,)\n",
      "Splitting hypercube:  <hypercube.Hypercube object at 0x000001D085829490>\n",
      "patches shape:  (21402, 23, 23, 30)\n",
      "labels shape:  (21402,)\n",
      "Splitting hypercube:  <hypercube.Hypercube object at 0x000001D085829160>\n",
      "patches shape:  (1908, 23, 23, 30)\n",
      "labels shape:  (1908,)\n"
     ]
    }
   ],
   "source": [
    "X_train, y_train = hc_set.split(patch_size=config.patch_size, patch_overlap=config.patch_overlapping, train=True)"
   ],
   "metadata": {
    "collapsed": false
   }
  },
  {
   "cell_type": "code",
   "execution_count": 75,
   "outputs": [
    {
     "name": "stdout",
     "output_type": "stream",
     "text": [
      "Splitting hypercube:  <hypercube.Hypercube object at 0x0000022C9183FA60>\n",
      "patches shape:  (42864, 23, 23, 30)\n",
      "labels shape:  (42864,)\n",
      "Splitting hypercube:  <hypercube.Hypercube object at 0x0000022C811396D0>\n",
      "patches shape:  (44550, 23, 23, 30)\n",
      "labels shape:  (44550,)\n",
      "Splitting hypercube:  <hypercube.Hypercube object at 0x0000022C81139430>\n",
      "patches shape:  (34891, 23, 23, 30)\n",
      "labels shape:  (34891,)\n",
      "Splitting hypercube:  <hypercube.Hypercube object at 0x0000022C81139790>\n",
      "patches shape:  (32078, 23, 23, 30)\n",
      "labels shape:  (32078,)\n",
      "Splitting hypercube:  <hypercube.Hypercube object at 0x0000022C81139370>\n",
      "patches shape:  (2893, 23, 23, 30)\n",
      "labels shape:  (2893,)\n"
     ]
    }
   ],
   "source": [
    "X_test, y_test = hc_set.split(patch_size=config.patch_size, patch_overlap=config.patch_overlapping, train=False)"
   ],
   "metadata": {
    "collapsed": false
   }
  },
  {
   "cell_type": "code",
   "execution_count": 13,
   "outputs": [
    {
     "data": {
      "text/plain": "<Figure size 640x480 with 1 Axes>",
      "image/png": "[encoded data removed]"
     },
     "metadata": {},
     "output_type": "display_data"
    },
    {
     "data": {
      "text/plain": "<Figure size 640x480 with 1 Axes>",
      "image/png": "[encoded data removed]"
     },
     "metadata": {},
     "output_type": "display_data"
    }
   ],
   "source": [
    "render_mask_histogram(y_train)\n",
    "render_mask_histogram(y_test)"
   ],
   "metadata": {
    "collapsed": false
   }
  },
  {
   "cell_type": "code",
   "execution_count": 76,
   "outputs": [
    {
     "data": {
      "text/plain": "<Figure size 640x480 with 1 Axes>",
      "image/png": "[encoded data removed]"
     },
     "metadata": {},
     "output_type": "display_data"
    },
    {
     "data": {
      "text/plain": "<Figure size 640x480 with 1 Axes>",
      "image/png": "[encoded data removed]"
     },
     "metadata": {},
     "output_type": "display_data"
    }
   ],
   "source": [
    "reflectance_std = np.std(X_train)\n",
    "mean_spectral_std = np.mean(reflectance_std)\n",
    "print(mean_spectral_std)"
   ],
   "metadata": {
    "collapsed": false
   }
  },
  {
   "cell_type": "code",
   "execution_count": 63,
   "outputs": [
    {
     "name": "stdout",
     "output_type": "stream",
     "text": [
      "0.9268594537081192\n"
     ]
    }
   ],
   "source": [
    "transforms = Compose([\n",
    "            HorizontalFlip(p=0.25),\n",
    "            VerticalFlip(p=0.25),\n",
    "            Rotate(limit=45, p=0.25),\n",
    "        ])"
   ],
   "metadata": {
    "collapsed": false
   }
  },
  {
   "cell_type": "code",
   "execution_count": 64,
   "outputs": [],
   "source": [
    "X_train_augmented = X_train.copy()\n",
    "augment_fn2 = X_train.copy()\n",
    "\n",
    "for i in range(len(X_train)):\n",
    "    random_seed = np.random.randint(0, X_train.shape[0] * 10)\n",
    "    randomness.set_seed(random_seed)\n",
    "    X_train_augmented[i, :, :, 0] = transforms(image=X_train[i, :, :, 0])[\"image\"]\n",
    "    randomness.set_seed(random_seed)\n",
    "    augment_fn2[i, :, :, 0] = transforms(image=X_train[i, :, :, 1])[\"image\"]\n",
    "\n",
    "# Compute distance between augmented images\n",
    "print(np.linalg.norm(X_train_augmented - augment_fn2))\n",
    "\n",
    "fig = plt.figure(figsize=(7, 15))\n",
    "for i in range(28):\n",
    "    ax = fig.add_subplot(7, 4, i+1, xticks=[], yticks=[])\n",
    "    if i % 4 == 0:\n",
    "        ax.imshow(X_train_augmented[i // 4, :, :, 0])\n",
    "    elif i % 4 == 1:\n",
    "        ax.imshow(augment_fn2[i // 4, :, :, 0])\n",
    "    elif i % 4 == 2:\n",
    "        ax.imshow(X_train[i // 4, :, :, 0])\n",
    "    else:\n",
    "        ax.imshow(X_train[i // 4, :, :, 1])"
   ],
   "metadata": {
    "collapsed": false
   }
  },
  {
   "cell_type": "code",
   "execution_count": 14,
   "outputs": [
    {
     "name": "stdout",
     "output_type": "stream",
     "text": [
      "[0. 1. 2. 3. 4. 5. 6. 7.]\n"
     ]
    }
   ],
   "source": [
    "print(np.unique(y_train))"
   ],
   "metadata": {
    "collapsed": false
   }
  },
  {
   "cell_type": "code",
   "execution_count": 45,
   "outputs": [
    {
     "name": "stdout",
     "output_type": "stream",
     "text": [
      "[ 0.  1.  2.  3.  4.  5.  6.  7.  8.  9. 10. 11. 12. 13.]\n"
     ]
    }
   ],
   "source": [
    "from keras.utils import Sequence\n",
    "\n",
    "class TransformedBatch(Sequence):\n",
    "    def __init__(self, x_set, y_set, batch_size, augmentations, validation_sequence, num_epochs, num_splits=5):\n",
    "        self.x, self.y = x_set, y_set\n",
    "        self.len_x = self.x.shape[0]\n",
    "        self.batch_size = batch_size\n",
    "        self.augment = augmentations\n",
    "        self.validation_sequence = validation_sequence\n",
    "        self.k_fold_indices = None\n",
    "        self.num_splits = num_splits\n",
    "        self.epoch = 0\n",
    "        self.k_fold_idx = 0\n",
    "        self.num_epochs = num_epochs\n",
    "\n",
    "        self.build_kfold()\n",
    "        self.train_indices, validation = self.get_kfold(self.k_fold_idx)\n",
    "        self.validation_sequence.set_validation_set(self.x[validation], self.y[validation])\n",
    "\n",
    "    def __len__(self):\n",
    "        return int(np.ceil(len(self.train_indices) / float(self.batch_size)))\n",
    "\n",
    "    def __getitem__(self, idx):\n",
    "        train_x, train_y = self.x[self.train_indices], self.y[self.train_indices]\n",
    "        batch_x = train_x[idx * self.batch_size:(idx + 1) * self.batch_size]\n",
    "        batch_y = train_y[idx * self.batch_size:(idx + 1) * self.batch_size]\n",
    "\n",
    "        for i in range(len(batch_x)):\n",
    "            for layer in range(batch_x.shape[-1]):\n",
    "                randomness.set_seed(42)\n",
    "                batch_x[i, :, :, layer] = self.augment(image=batch_x[i, :, :, layer])[\"image\"]\n",
    "\n",
    "        return batch_x, batch_y\n",
    "\n",
    "    def __on_epoch_end__(self):\n",
    "        self.epoch += 1\n",
    "        new_k_fold_idx = self.epoch // (self.num_epochs // self.num_splits)\n",
    "\n",
    "        if new_k_fold_idx != self.k_fold_idx:\n",
    "            self.k_fold_idx = new_k_fold_idx\n",
    "            train, validation = self.get_kfold(self.k_fold_idx)\n",
    "            self.validation_sequence.set_validation_set(self.x[validation], self.y[validation])\n",
    "\n",
    "    def build_kfold(self):\n",
    "        # Get self.len_x random indices\n",
    "        self.k_fold_indices = np.random.permutation(self.len_x)\n",
    "\n",
    "    def get_kfold(self, idx):\n",
    "        print(idx)\n",
    "        k_fold_validation = self.k_fold_indices[idx * self.len_x // self.num_splits:(idx + 1) * self.len_x // self.num_splits]\n",
    "        k_fold_train = np.delete(self.k_fold_indices, k_fold_validation)\n",
    "\n",
    "        return k_fold_train, k_fold_validation\n",
    "\n",
    "class TransformedValidation(Sequence):\n",
    "    def __init__(self):\n",
    "        self.x, self.y = None, None\n",
    "\n",
    "    def __len__(self):\n",
    "        return int(len(self.x))\n",
    "\n",
    "    def __getitem__(self, idx):\n",
    "        return self.x, self.y\n",
    "\n",
    "    def set_validation_set(self, x, y):\n",
    "        self.x, self.y = x, y"
   ],
   "metadata": {
    "collapsed": false
   }
  },
  {
   "cell_type": "code",
   "execution_count": 46,
   "outputs": [],
   "source": [
    "validation_sequence = TransformedValidation()\n",
    "transformed_x_train = TransformedBatch(X_train, y_train, batch_size=128, augmentations=transforms, validation_sequence=validation_sequence, num_epochs=50, num_splits=5)\n",
    "\n",
    "for i in range(50):\n",
    "    train_idx, test_idx = transformed_x_train.get_kfold(i // (50 // 5))\n",
    "    transformed_x_train.__on_epoch_end__()\n",
    "    # print(test_idx)"
   ],
   "metadata": {
    "collapsed": false
   }
  },
  {
   "cell_type": "code",
   "execution_count": 32,
   "outputs": [
    {
     "name": "stdout",
     "output_type": "stream",
     "text": [
      "Number of GPUs: 2\n",
      "INFO:tensorflow:Using MirroredStrategy with devices ('/job:localhost/replica:0/task:0/device:GPU:0', '/job:localhost/replica:0/task:0/device:GPU:1')\n",
      "Number of devices: 2\n"
     ]
    },
    {
     "data": {
      "text/plain": "<tensorflow.python.distribute.mirrored_strategy.MirroredStrategy at 0x22c919b0820>"
     },
     "execution_count": 32,
     "metadata": {},
     "output_type": "execute_result"
    }
   ],
   "source": [
    "from cnn_builder import force_gpu\n",
    "\n",
    "force_gpu()"
   ],
   "metadata": {
    "collapsed": false
   }
  },
  {
   "cell_type": "code",
   "execution_count": 47,
   "outputs": [
    {
     "name": "stdout",
     "output_type": "stream",
     "text": [
      "Device mapping:\n",
      "/job:localhost/replica:0/task:0/device:GPU:0 -> device: 0, name: NVIDIA RTX A6000, pci bus id: 0000:21:00.0, compute capability: 8.6\n",
      "/job:localhost/replica:0/task:0/device:GPU:1 -> device: 1, name: NVIDIA RTX A6000, pci bus id: 0000:49:00.0, compute capability: 8.6\n",
      "\n",
      "Number of GPUs: 2\n",
      "INFO:tensorflow:Using MirroredStrategy with devices ('/job:localhost/replica:0/task:0/device:GPU:0', '/job:localhost/replica:0/task:0/device:GPU:1')\n",
      "Number of devices: 2\n"
     ]
    },
    {
     "data": {
      "text/plain": "<tensorflow.python.distribute.mirrored_strategy.MirroredStrategy at 0x22c8009c3d0>"
     },
     "execution_count": 47,
     "metadata": {},
     "output_type": "execute_result"
    }
   ],
   "source": [
    "X_train_transformed = X_train.copy()\n",
    "\n",
    "for i in range(len(X_train_transformed)):\n",
    "    random_seed = np.random.randint(0, X_train_transformed.shape[0] * 10)\n",
    "    for layer in range(X_train_transformed.shape[-1]):\n",
    "        randomness.set_seed(random_seed)\n",
    "        X_train_transformed[i, :, :, layer] = transforms(image=X_train_transformed[i, :, :, layer])[\"image\"]"
   ],
   "metadata": {
    "collapsed": false
   }
  },
  {
   "cell_type": "code",
   "execution_count": 16,
   "outputs": [
    {
     "name": "stdout",
     "output_type": "stream",
     "text": [
      "{'optimizer': <keras.optimizers.optimizer_v2.rmsprop.RMSprop object at 0x000001D0F936A820>, 'callbacks': [], 'intermediate_activation': 'relu', 'kernel_size': 3, 'start_size': 16, 'strides': 2}\n",
      "Model: \"model\"\n",
      "__________________________________________________________________________________________________\n",
      " Layer (type)                   Output Shape         Param #     Connected to                     \n",
      "==================================================================================================\n",
      " input_1 (InputLayer)           [(None, 23, 23, 30)  0           []                               \n",
      "                                ]                                                                 \n",
      "                                                                                                  \n",
      " conv2d (Conv2D)                (None, 23, 23, 16)   496         ['input_1[0][0]']                \n",
      "                                                                                                  \n",
      " conv2d_1 (Conv2D)              (None, 12, 12, 16)   2320        ['conv2d[0][0]']                 \n",
      "                                                                                                  \n",
      " leaky_re_lu (LeakyReLU)        (None, 12, 12, 16)   0           ['conv2d_1[0][0]']               \n",
      "                                                                                                  \n",
      " batch_normalization (BatchNorm  (None, 12, 12, 16)  64          ['leaky_re_lu[0][0]']            \n",
      " alization)                                                                                       \n",
      "                                                                                                  \n",
      " dropout (Dropout)              (None, 12, 12, 16)   0           ['batch_normalization[0][0]']    \n",
      "                                                                                                  \n",
      " conv2d_2 (Conv2D)              (None, 12, 12, 32)   544         ['dropout[0][0]']                \n",
      "                                                                                                  \n",
      " conv2d_4 (Conv2D)              (None, 12, 12, 32)   544         ['dropout[0][0]']                \n",
      "                                                                                                  \n",
      " max_pooling2d (MaxPooling2D)   (None, 6, 6, 16)     0           ['dropout[0][0]']                \n",
      "                                                                                                  \n",
      " conv2d_3 (Conv2D)              (None, 6, 6, 32)     9248        ['conv2d_2[0][0]']               \n",
      "                                                                                                  \n",
      " conv2d_5 (Conv2D)              (None, 6, 6, 32)     25632       ['conv2d_4[0][0]']               \n",
      "                                                                                                  \n",
      " conv2d_6 (Conv2D)              (None, 6, 6, 32)     544         ['max_pooling2d[0][0]']          \n",
      "                                                                                                  \n",
      " concatenate (Concatenate)      (None, 6, 6, 96)     0           ['conv2d_3[0][0]',               \n",
      "                                                                  'conv2d_5[0][0]',               \n",
      "                                                                  'conv2d_6[0][0]']               \n",
      "                                                                                                  \n",
      " batch_normalization_1 (BatchNo  (None, 6, 6, 96)    384         ['concatenate[0][0]']            \n",
      " rmalization)                                                                                     \n",
      "                                                                                                  \n",
      " leaky_re_lu_1 (LeakyReLU)      (None, 6, 6, 96)     0           ['batch_normalization_1[0][0]']  \n",
      "                                                                                                  \n",
      " dropout_1 (Dropout)            (None, 6, 6, 96)     0           ['leaky_re_lu_1[0][0]']          \n",
      "                                                                                                  \n",
      " conv2d_7 (Conv2D)              (None, 6, 6, 96)     9312        ['dropout_1[0][0]']              \n",
      "                                                                                                  \n",
      " conv2d_9 (Conv2D)              (None, 6, 6, 96)     9312        ['dropout_1[0][0]']              \n",
      "                                                                                                  \n",
      " max_pooling2d_1 (MaxPooling2D)  (None, 3, 3, 96)    0           ['dropout_1[0][0]']              \n",
      "                                                                                                  \n",
      " conv2d_8 (Conv2D)              (None, 3, 3, 96)     83040       ['conv2d_7[0][0]']               \n",
      "                                                                                                  \n",
      " conv2d_10 (Conv2D)             (None, 3, 3, 96)     230496      ['conv2d_9[0][0]']               \n",
      "                                                                                                  \n",
      " conv2d_11 (Conv2D)             (None, 3, 3, 96)     9312        ['max_pooling2d_1[0][0]']        \n",
      "                                                                                                  \n",
      " concatenate_1 (Concatenate)    (None, 3, 3, 288)    0           ['conv2d_8[0][0]',               \n",
      "                                                                  'conv2d_10[0][0]',              \n",
      "                                                                  'conv2d_11[0][0]']              \n",
      "                                                                                                  \n",
      " batch_normalization_2 (BatchNo  (None, 3, 3, 288)   1152        ['concatenate_1[0][0]']          \n",
      " rmalization)                                                                                     \n",
      "                                                                                                  \n",
      " leaky_re_lu_2 (LeakyReLU)      (None, 3, 3, 288)    0           ['batch_normalization_2[0][0]']  \n",
      "                                                                                                  \n",
      " flatten (Flatten)              (None, 2592)         0           ['leaky_re_lu_2[0][0]']          \n",
      "                                                                                                  \n",
      " dropout_2 (Dropout)            (None, 2592)         0           ['flatten[0][0]']                \n",
      "                                                                                                  \n",
      " dense (Dense)                  (None, 9)            23337       ['dropout_2[0][0]']              \n",
      "                                                                                                  \n",
      "==================================================================================================\n",
      "Total params: 405,737\n",
      "Trainable params: 404,937\n",
      "Non-trainable params: 800\n",
      "__________________________________________________________________________________________________\n",
      "Training for 40 epochs with batch size of 512...\n",
      "Epoch 1/40\n",
      "185/185 [==============================] - ETA: 0s - loss: 2.1563 - sparse_categorical_accuracy: 0.2588\n",
      "Epoch 1: val_loss improved from inf to 1.95622, saving model to results/white/network\\allopezr_2d_23x22_16_0.h5\n",
      "185/185 [==============================] - 12s 38ms/step - loss: 2.1563 - sparse_categorical_accuracy: 0.2588 - val_loss: 1.9562 - val_sparse_categorical_accuracy: 0.3181\n",
      "Epoch 2/40\n",
      "185/185 [==============================] - ETA: 0s - loss: 1.7466 - sparse_categorical_accuracy: 0.3632\n",
      "Epoch 2: val_loss improved from 1.95622 to 1.55396, saving model to results/white/network\\allopezr_2d_23x22_16_0.h5\n",
      "185/185 [==============================] - 6s 32ms/step - loss: 1.7466 - sparse_categorical_accuracy: 0.3632 - val_loss: 1.5540 - val_sparse_categorical_accuracy: 0.4446\n",
      "Epoch 3/40\n",
      "185/185 [==============================] - ETA: 0s - loss: 1.5070 - sparse_categorical_accuracy: 0.4376\n",
      "Epoch 3: val_loss improved from 1.55396 to 1.32036, saving model to results/white/network\\allopezr_2d_23x22_16_0.h5\n",
      "185/185 [==============================] - 6s 34ms/step - loss: 1.5070 - sparse_categorical_accuracy: 0.4376 - val_loss: 1.3204 - val_sparse_categorical_accuracy: 0.5296\n",
      "Epoch 4/40\n",
      "185/185 [==============================] - ETA: 0s - loss: 1.3319 - sparse_categorical_accuracy: 0.5037\n",
      "Epoch 4: val_loss improved from 1.32036 to 1.19439, saving model to results/white/network\\allopezr_2d_23x22_16_0.h5\n",
      "185/185 [==============================] - 6s 33ms/step - loss: 1.3319 - sparse_categorical_accuracy: 0.5037 - val_loss: 1.1944 - val_sparse_categorical_accuracy: 0.5784\n",
      "Epoch 5/40\n",
      "185/185 [==============================] - ETA: 0s - loss: 1.1793 - sparse_categorical_accuracy: 0.5615\n",
      "Epoch 5: val_loss improved from 1.19439 to 1.09843, saving model to results/white/network\\allopezr_2d_23x22_16_0.h5\n",
      "185/185 [==============================] - 6s 33ms/step - loss: 1.1793 - sparse_categorical_accuracy: 0.5615 - val_loss: 1.0984 - val_sparse_categorical_accuracy: 0.6160\n",
      "Epoch 6/40\n",
      "184/185 [============================>.] - ETA: 0s - loss: 1.0543 - sparse_categorical_accuracy: 0.6106\n",
      "Epoch 6: val_loss improved from 1.09843 to 1.02062, saving model to results/white/network\\allopezr_2d_23x22_16_0.h5\n",
      "185/185 [==============================] - 6s 33ms/step - loss: 1.0541 - sparse_categorical_accuracy: 0.6107 - val_loss: 1.0206 - val_sparse_categorical_accuracy: 0.6455\n",
      "Epoch 7/40\n",
      "185/185 [==============================] - ETA: 0s - loss: 0.9483 - sparse_categorical_accuracy: 0.6518\n",
      "Epoch 7: val_loss improved from 1.02062 to 0.93974, saving model to results/white/network\\allopezr_2d_23x22_16_0.h5\n",
      "185/185 [==============================] - 6s 33ms/step - loss: 0.9483 - sparse_categorical_accuracy: 0.6518 - val_loss: 0.9397 - val_sparse_categorical_accuracy: 0.6722\n",
      "Epoch 8/40\n",
      "184/185 [============================>.] - ETA: 0s - loss: 0.8610 - sparse_categorical_accuracy: 0.6850\n",
      "Epoch 8: val_loss improved from 0.93974 to 0.86166, saving model to results/white/network\\allopezr_2d_23x22_16_0.h5\n",
      "185/185 [==============================] - 6s 34ms/step - loss: 0.8610 - sparse_categorical_accuracy: 0.6850 - val_loss: 0.8617 - val_sparse_categorical_accuracy: 0.7018\n",
      "Epoch 9/40\n",
      "184/185 [============================>.] - ETA: 0s - loss: 0.7893 - sparse_categorical_accuracy: 0.7099\n",
      "Epoch 9: val_loss improved from 0.86166 to 0.82115, saving model to results/white/network\\allopezr_2d_23x22_16_0.h5\n",
      "185/185 [==============================] - 6s 34ms/step - loss: 0.7891 - sparse_categorical_accuracy: 0.7100 - val_loss: 0.8212 - val_sparse_categorical_accuracy: 0.7152\n",
      "Epoch 10/40\n",
      "185/185 [==============================] - ETA: 0s - loss: 0.7244 - sparse_categorical_accuracy: 0.7366\n",
      "Epoch 10: val_loss improved from 0.82115 to 0.76701, saving model to results/white/network\\allopezr_2d_23x22_16_0.h5\n",
      "185/185 [==============================] - 6s 34ms/step - loss: 0.7244 - sparse_categorical_accuracy: 0.7366 - val_loss: 0.7670 - val_sparse_categorical_accuracy: 0.7287\n",
      "Epoch 11/40\n",
      "184/185 [============================>.] - ETA: 0s - loss: 0.6768 - sparse_categorical_accuracy: 0.7515\n",
      "Epoch 11: val_loss improved from 0.76701 to 0.72543, saving model to results/white/network\\allopezr_2d_23x22_16_0.h5\n",
      "185/185 [==============================] - 6s 34ms/step - loss: 0.6768 - sparse_categorical_accuracy: 0.7515 - val_loss: 0.7254 - val_sparse_categorical_accuracy: 0.7444\n",
      "Epoch 12/40\n",
      "185/185 [==============================] - ETA: 0s - loss: 0.6292 - sparse_categorical_accuracy: 0.7701\n",
      "Epoch 12: val_loss improved from 0.72543 to 0.71388, saving model to results/white/network\\allopezr_2d_23x22_16_0.h5\n",
      "185/185 [==============================] - 6s 34ms/step - loss: 0.6292 - sparse_categorical_accuracy: 0.7701 - val_loss: 0.7139 - val_sparse_categorical_accuracy: 0.7468\n",
      "Epoch 13/40\n",
      "184/185 [============================>.] - ETA: 0s - loss: 0.5876 - sparse_categorical_accuracy: 0.7851\n",
      "Epoch 13: val_loss improved from 0.71388 to 0.67330, saving model to results/white/network\\allopezr_2d_23x22_16_0.h5\n",
      "185/185 [==============================] - 6s 33ms/step - loss: 0.5875 - sparse_categorical_accuracy: 0.7851 - val_loss: 0.6733 - val_sparse_categorical_accuracy: 0.7606\n",
      "Epoch 14/40\n",
      "185/185 [==============================] - ETA: 0s - loss: 0.5508 - sparse_categorical_accuracy: 0.7978\n",
      "Epoch 14: val_loss improved from 0.67330 to 0.66739, saving model to results/white/network\\allopezr_2d_23x22_16_0.h5\n",
      "185/185 [==============================] - 6s 33ms/step - loss: 0.5508 - sparse_categorical_accuracy: 0.7978 - val_loss: 0.6674 - val_sparse_categorical_accuracy: 0.7629\n",
      "Epoch 15/40\n",
      "185/185 [==============================] - ETA: 0s - loss: 0.5218 - sparse_categorical_accuracy: 0.8096\n",
      "Epoch 15: val_loss improved from 0.66739 to 0.62752, saving model to results/white/network\\allopezr_2d_23x22_16_0.h5\n",
      "185/185 [==============================] - 6s 33ms/step - loss: 0.5218 - sparse_categorical_accuracy: 0.8096 - val_loss: 0.6275 - val_sparse_categorical_accuracy: 0.7695\n",
      "Epoch 16/40\n",
      "184/185 [============================>.] - ETA: 0s - loss: 0.4948 - sparse_categorical_accuracy: 0.8183\n",
      "Epoch 16: val_loss did not improve from 0.62752\n",
      "185/185 [==============================] - 6s 33ms/step - loss: 0.4947 - sparse_categorical_accuracy: 0.8183 - val_loss: 0.6495 - val_sparse_categorical_accuracy: 0.7693\n",
      "Epoch 17/40\n",
      "185/185 [==============================] - ETA: 0s - loss: 0.4698 - sparse_categorical_accuracy: 0.8290\n",
      "Epoch 17: val_loss improved from 0.62752 to 0.60074, saving model to results/white/network\\allopezr_2d_23x22_16_0.h5\n",
      "185/185 [==============================] - 6s 34ms/step - loss: 0.4698 - sparse_categorical_accuracy: 0.8290 - val_loss: 0.6007 - val_sparse_categorical_accuracy: 0.7857\n",
      "Epoch 18/40\n",
      "184/185 [============================>.] - ETA: 0s - loss: 0.4448 - sparse_categorical_accuracy: 0.8374\n",
      "Epoch 18: val_loss improved from 0.60074 to 0.56184, saving model to results/white/network\\allopezr_2d_23x22_16_0.h5\n",
      "185/185 [==============================] - 6s 34ms/step - loss: 0.4448 - sparse_categorical_accuracy: 0.8374 - val_loss: 0.5618 - val_sparse_categorical_accuracy: 0.8038\n",
      "Epoch 19/40\n",
      "184/185 [============================>.] - ETA: 0s - loss: 0.4210 - sparse_categorical_accuracy: 0.8471\n",
      "Epoch 19: val_loss improved from 0.56184 to 0.55924, saving model to results/white/network\\allopezr_2d_23x22_16_0.h5\n",
      "185/185 [==============================] - 6s 33ms/step - loss: 0.4210 - sparse_categorical_accuracy: 0.8472 - val_loss: 0.5592 - val_sparse_categorical_accuracy: 0.8019\n",
      "Epoch 20/40\n",
      "184/185 [============================>.] - ETA: 0s - loss: 0.4009 - sparse_categorical_accuracy: 0.8549\n",
      "Epoch 20: val_loss did not improve from 0.55924\n",
      "185/185 [==============================] - 6s 33ms/step - loss: 0.4012 - sparse_categorical_accuracy: 0.8547 - val_loss: 0.5811 - val_sparse_categorical_accuracy: 0.7997\n",
      "Epoch 21/40\n",
      "185/185 [==============================] - ETA: 0s - loss: 0.3825 - sparse_categorical_accuracy: 0.8615\n",
      "Epoch 21: val_loss did not improve from 0.55924\n",
      "185/185 [==============================] - 6s 33ms/step - loss: 0.3825 - sparse_categorical_accuracy: 0.8615 - val_loss: 0.5698 - val_sparse_categorical_accuracy: 0.7991\n",
      "Epoch 22/40\n",
      "184/185 [============================>.] - ETA: 0s - loss: 0.3625 - sparse_categorical_accuracy: 0.8700\n",
      "Epoch 22: val_loss improved from 0.55924 to 0.54560, saving model to results/white/network\\allopezr_2d_23x22_16_0.h5\n",
      "185/185 [==============================] - 6s 33ms/step - loss: 0.3624 - sparse_categorical_accuracy: 0.8700 - val_loss: 0.5456 - val_sparse_categorical_accuracy: 0.8222\n",
      "Epoch 23/40\n",
      "185/185 [==============================] - ETA: 0s - loss: 0.3505 - sparse_categorical_accuracy: 0.8745\n",
      "Epoch 23: val_loss did not improve from 0.54560\n",
      "185/185 [==============================] - 6s 33ms/step - loss: 0.3505 - sparse_categorical_accuracy: 0.8745 - val_loss: 0.5592 - val_sparse_categorical_accuracy: 0.8104\n",
      "Epoch 24/40\n",
      "185/185 [==============================] - ETA: 0s - loss: 0.3360 - sparse_categorical_accuracy: 0.8789\n",
      "Epoch 24: val_loss did not improve from 0.54560\n",
      "185/185 [==============================] - 6s 33ms/step - loss: 0.3360 - sparse_categorical_accuracy: 0.8789 - val_loss: 0.5489 - val_sparse_categorical_accuracy: 0.8132\n",
      "Epoch 25/40\n",
      "184/185 [============================>.] - ETA: 0s - loss: 0.3228 - sparse_categorical_accuracy: 0.8834\n",
      "Epoch 25: val_loss improved from 0.54560 to 0.54003, saving model to results/white/network\\allopezr_2d_23x22_16_0.h5\n",
      "185/185 [==============================] - 6s 33ms/step - loss: 0.3228 - sparse_categorical_accuracy: 0.8834 - val_loss: 0.5400 - val_sparse_categorical_accuracy: 0.8277\n",
      "Epoch 26/40\n",
      "185/185 [==============================] - ETA: 0s - loss: 0.3074 - sparse_categorical_accuracy: 0.8901\n",
      "Epoch 26: val_loss improved from 0.54003 to 0.51831, saving model to results/white/network\\allopezr_2d_23x22_16_0.h5\n",
      "185/185 [==============================] - 6s 33ms/step - loss: 0.3074 - sparse_categorical_accuracy: 0.8901 - val_loss: 0.5183 - val_sparse_categorical_accuracy: 0.8331\n",
      "Epoch 27/40\n",
      "184/185 [============================>.] - ETA: 0s - loss: 0.2934 - sparse_categorical_accuracy: 0.8951\n",
      "Epoch 27: val_loss improved from 0.51831 to 0.50471, saving model to results/white/network\\allopezr_2d_23x22_16_0.h5\n",
      "185/185 [==============================] - 6s 34ms/step - loss: 0.2934 - sparse_categorical_accuracy: 0.8951 - val_loss: 0.5047 - val_sparse_categorical_accuracy: 0.8391\n",
      "Epoch 28/40\n",
      "184/185 [============================>.] - ETA: 0s - loss: 0.2823 - sparse_categorical_accuracy: 0.8999\n",
      "Epoch 28: val_loss improved from 0.50471 to 0.47191, saving model to results/white/network\\allopezr_2d_23x22_16_0.h5\n",
      "185/185 [==============================] - 6s 33ms/step - loss: 0.2822 - sparse_categorical_accuracy: 0.8999 - val_loss: 0.4719 - val_sparse_categorical_accuracy: 0.8501\n",
      "Epoch 29/40\n",
      "185/185 [==============================] - ETA: 0s - loss: 0.2699 - sparse_categorical_accuracy: 0.9049\n",
      "Epoch 29: val_loss did not improve from 0.47191\n",
      "185/185 [==============================] - 6s 32ms/step - loss: 0.2699 - sparse_categorical_accuracy: 0.9049 - val_loss: 0.4859 - val_sparse_categorical_accuracy: 0.8458\n",
      "Epoch 30/40\n",
      "185/185 [==============================] - ETA: 0s - loss: 0.2592 - sparse_categorical_accuracy: 0.9072\n",
      "Epoch 30: val_loss did not improve from 0.47191\n",
      "185/185 [==============================] - 6s 32ms/step - loss: 0.2592 - sparse_categorical_accuracy: 0.9072 - val_loss: 0.4975 - val_sparse_categorical_accuracy: 0.8474\n",
      "Epoch 31/40\n",
      "184/185 [============================>.] - ETA: 0s - loss: 0.2502 - sparse_categorical_accuracy: 0.9120\n",
      "Epoch 31: val_loss improved from 0.47191 to 0.45762, saving model to results/white/network\\allopezr_2d_23x22_16_0.h5\n",
      "185/185 [==============================] - 6s 33ms/step - loss: 0.2502 - sparse_categorical_accuracy: 0.9120 - val_loss: 0.4576 - val_sparse_categorical_accuracy: 0.8620\n",
      "Epoch 32/40\n",
      "184/185 [============================>.] - ETA: 0s - loss: 0.2407 - sparse_categorical_accuracy: 0.9151\n",
      "Epoch 32: val_loss did not improve from 0.45762\n",
      "185/185 [==============================] - 6s 32ms/step - loss: 0.2408 - sparse_categorical_accuracy: 0.9151 - val_loss: 0.4689 - val_sparse_categorical_accuracy: 0.8661\n",
      "Epoch 33/40\n",
      "184/185 [============================>.] - ETA: 0s - loss: 0.2326 - sparse_categorical_accuracy: 0.9186\n",
      "Epoch 33: val_loss did not improve from 0.45762\n",
      "185/185 [==============================] - 6s 34ms/step - loss: 0.2326 - sparse_categorical_accuracy: 0.9186 - val_loss: 0.4874 - val_sparse_categorical_accuracy: 0.8572\n",
      "Epoch 34/40\n",
      "184/185 [============================>.] - ETA: 0s - loss: 0.2244 - sparse_categorical_accuracy: 0.9211\n",
      "Epoch 34: val_loss improved from 0.45762 to 0.42946, saving model to results/white/network\\allopezr_2d_23x22_16_0.h5\n",
      "185/185 [==============================] - 6s 35ms/step - loss: 0.2244 - sparse_categorical_accuracy: 0.9211 - val_loss: 0.4295 - val_sparse_categorical_accuracy: 0.8748\n",
      "Epoch 35/40\n",
      "184/185 [============================>.] - ETA: 0s - loss: 0.2185 - sparse_categorical_accuracy: 0.9234\n",
      "Epoch 35: val_loss did not improve from 0.42946\n",
      "185/185 [==============================] - 6s 34ms/step - loss: 0.2187 - sparse_categorical_accuracy: 0.9233 - val_loss: 0.4438 - val_sparse_categorical_accuracy: 0.8703\n",
      "Epoch 36/40\n",
      "184/185 [============================>.] - ETA: 0s - loss: 0.2083 - sparse_categorical_accuracy: 0.9279\n",
      "Epoch 36: val_loss did not improve from 0.42946\n",
      "185/185 [==============================] - 6s 33ms/step - loss: 0.2083 - sparse_categorical_accuracy: 0.9278 - val_loss: 0.4428 - val_sparse_categorical_accuracy: 0.8771\n",
      "Epoch 37/40\n",
      "185/185 [==============================] - ETA: 0s - loss: 0.2016 - sparse_categorical_accuracy: 0.9297\n",
      "Epoch 37: val_loss did not improve from 0.42946\n",
      "185/185 [==============================] - 6s 33ms/step - loss: 0.2016 - sparse_categorical_accuracy: 0.9297 - val_loss: 0.4526 - val_sparse_categorical_accuracy: 0.8660\n",
      "Epoch 38/40\n",
      "185/185 [==============================] - ETA: 0s - loss: 0.1940 - sparse_categorical_accuracy: 0.9324\n",
      "Epoch 38: val_loss did not improve from 0.42946\n",
      "185/185 [==============================] - 6s 33ms/step - loss: 0.1940 - sparse_categorical_accuracy: 0.9324 - val_loss: 0.4562 - val_sparse_categorical_accuracy: 0.8797\n",
      "Epoch 39/40\n",
      "184/185 [============================>.] - ETA: 0s - loss: 0.1885 - sparse_categorical_accuracy: 0.9339\n",
      "Epoch 39: val_loss did not improve from 0.42946\n",
      "185/185 [==============================] - 6s 35ms/step - loss: 0.1885 - sparse_categorical_accuracy: 0.9339 - val_loss: 0.4501 - val_sparse_categorical_accuracy: 0.8824\n",
      "Epoch 40/40\n",
      "184/185 [============================>.] - ETA: 0s - loss: 0.1843 - sparse_categorical_accuracy: 0.9354\n",
      "Epoch 40: val_loss did not improve from 0.42946\n",
      "185/185 [==============================] - 6s 34ms/step - loss: 0.1843 - sparse_categorical_accuracy: 0.9354 - val_loss: 0.4407 - val_sparse_categorical_accuracy: 0.8785\n",
      "Training took 252.48912072181702 seconds\n",
      "Samples: 0, Time: 252.48912072181702\n",
      "Training for 40 epochs with batch size of 512...\n",
      "Epoch 1/40\n",
      "184/185 [============================>.] - ETA: 0s - loss: 0.1792 - sparse_categorical_accuracy: 0.9371\n",
      "Epoch 1: val_loss did not improve from 0.42946\n",
      "185/185 [==============================] - 7s 36ms/step - loss: 0.1793 - sparse_categorical_accuracy: 0.9371 - val_loss: 0.4518 - val_sparse_categorical_accuracy: 0.8838\n",
      "Epoch 2/40\n",
      "185/185 [==============================] - ETA: 0s - loss: 0.1736 - sparse_categorical_accuracy: 0.9400\n",
      "Epoch 2: val_loss did not improve from 0.42946\n",
      "185/185 [==============================] - 6s 34ms/step - loss: 0.1736 - sparse_categorical_accuracy: 0.9400 - val_loss: 0.4380 - val_sparse_categorical_accuracy: 0.8888\n",
      "Epoch 3/40\n",
      "184/185 [============================>.] - ETA: 0s - loss: 0.1684 - sparse_categorical_accuracy: 0.9417\n",
      "Epoch 3: val_loss did not improve from 0.42946\n",
      "185/185 [==============================] - 6s 33ms/step - loss: 0.1684 - sparse_categorical_accuracy: 0.9417 - val_loss: 0.4551 - val_sparse_categorical_accuracy: 0.8919\n",
      "Epoch 4/40\n",
      "185/185 [==============================] - ETA: 0s - loss: 0.1621 - sparse_categorical_accuracy: 0.9435\n",
      "Epoch 4: val_loss improved from 0.42946 to 0.40356, saving model to results/white/network\\allopezr_2d_23x22_16_0.h5\n",
      "185/185 [==============================] - 6s 34ms/step - loss: 0.1621 - sparse_categorical_accuracy: 0.9435 - val_loss: 0.4036 - val_sparse_categorical_accuracy: 0.8921\n",
      "Epoch 5/40\n",
      "184/185 [============================>.] - ETA: 0s - loss: 0.1565 - sparse_categorical_accuracy: 0.9446\n",
      "Epoch 5: val_loss improved from 0.40356 to 0.38597, saving model to results/white/network\\allopezr_2d_23x22_16_0.h5\n",
      "185/185 [==============================] - 6s 34ms/step - loss: 0.1565 - sparse_categorical_accuracy: 0.9447 - val_loss: 0.3860 - val_sparse_categorical_accuracy: 0.8991\n",
      "Epoch 6/40\n",
      "185/185 [==============================] - ETA: 0s - loss: 0.1542 - sparse_categorical_accuracy: 0.9462\n",
      "Epoch 6: val_loss did not improve from 0.38597\n",
      "185/185 [==============================] - 6s 33ms/step - loss: 0.1542 - sparse_categorical_accuracy: 0.9462 - val_loss: 0.4123 - val_sparse_categorical_accuracy: 0.8987\n",
      "Epoch 7/40\n",
      "184/185 [============================>.] - ETA: 0s - loss: 0.1472 - sparse_categorical_accuracy: 0.9492\n",
      "Epoch 7: val_loss did not improve from 0.38597\n",
      "185/185 [==============================] - 6s 32ms/step - loss: 0.1473 - sparse_categorical_accuracy: 0.9492 - val_loss: 0.4449 - val_sparse_categorical_accuracy: 0.8912\n",
      "Epoch 8/40\n",
      "184/185 [============================>.] - ETA: 0s - loss: 0.1468 - sparse_categorical_accuracy: 0.9492\n",
      "Epoch 8: val_loss did not improve from 0.38597\n",
      "185/185 [==============================] - 6s 32ms/step - loss: 0.1470 - sparse_categorical_accuracy: 0.9491 - val_loss: 0.3989 - val_sparse_categorical_accuracy: 0.9005\n",
      "Epoch 9/40\n",
      "185/185 [==============================] - ETA: 0s - loss: 0.1412 - sparse_categorical_accuracy: 0.9510\n",
      "Epoch 9: val_loss did not improve from 0.38597\n",
      "185/185 [==============================] - 6s 32ms/step - loss: 0.1412 - sparse_categorical_accuracy: 0.9510 - val_loss: 0.3893 - val_sparse_categorical_accuracy: 0.9044\n",
      "Epoch 10/40\n",
      "185/185 [==============================] - ETA: 0s - loss: 0.1358 - sparse_categorical_accuracy: 0.9533\n",
      "Epoch 10: val_loss did not improve from 0.38597\n",
      "185/185 [==============================] - 6s 32ms/step - loss: 0.1358 - sparse_categorical_accuracy: 0.9533 - val_loss: 0.4174 - val_sparse_categorical_accuracy: 0.9036\n",
      "Epoch 11/40\n",
      "184/185 [============================>.] - ETA: 0s - loss: 0.1329 - sparse_categorical_accuracy: 0.9539\n",
      "Epoch 11: val_loss did not improve from 0.38597\n",
      "185/185 [==============================] - 6s 33ms/step - loss: 0.1329 - sparse_categorical_accuracy: 0.9538 - val_loss: 0.4010 - val_sparse_categorical_accuracy: 0.9038\n",
      "Epoch 12/40\n",
      "184/185 [============================>.] - ETA: 0s - loss: 0.1309 - sparse_categorical_accuracy: 0.9543\n",
      "Epoch 12: val_loss did not improve from 0.38597\n",
      "185/185 [==============================] - 6s 33ms/step - loss: 0.1309 - sparse_categorical_accuracy: 0.9543 - val_loss: 0.4164 - val_sparse_categorical_accuracy: 0.9023\n",
      "Epoch 13/40\n",
      "185/185 [==============================] - ETA: 0s - loss: 0.1273 - sparse_categorical_accuracy: 0.9564\n",
      "Epoch 13: val_loss did not improve from 0.38597\n",
      "185/185 [==============================] - 6s 32ms/step - loss: 0.1273 - sparse_categorical_accuracy: 0.9564 - val_loss: 0.4399 - val_sparse_categorical_accuracy: 0.8960\n",
      "Epoch 14/40\n",
      "184/185 [============================>.] - ETA: 0s - loss: 0.1265 - sparse_categorical_accuracy: 0.9559\n",
      "Epoch 14: val_loss did not improve from 0.38597\n",
      "185/185 [==============================] - 6s 33ms/step - loss: 0.1266 - sparse_categorical_accuracy: 0.9559 - val_loss: 0.4312 - val_sparse_categorical_accuracy: 0.9051\n",
      "Epoch 15/40\n",
      "185/185 [==============================] - ETA: 0s - loss: 0.1212 - sparse_categorical_accuracy: 0.9580\n",
      "Epoch 15: val_loss did not improve from 0.38597\n",
      "185/185 [==============================] - 6s 33ms/step - loss: 0.1212 - sparse_categorical_accuracy: 0.9580 - val_loss: 0.4064 - val_sparse_categorical_accuracy: 0.9061\n",
      "Epoch 16/40\n",
      "185/185 [==============================] - ETA: 0s - loss: 0.1166 - sparse_categorical_accuracy: 0.9598\n",
      "Epoch 16: val_loss did not improve from 0.38597\n",
      "185/185 [==============================] - 6s 33ms/step - loss: 0.1166 - sparse_categorical_accuracy: 0.9598 - val_loss: 0.4220 - val_sparse_categorical_accuracy: 0.9123\n",
      "Epoch 17/40\n",
      "184/185 [============================>.] - ETA: 0s - loss: 0.1142 - sparse_categorical_accuracy: 0.9607\n",
      "Epoch 17: val_loss did not improve from 0.38597\n",
      "185/185 [==============================] - 6s 33ms/step - loss: 0.1142 - sparse_categorical_accuracy: 0.9607 - val_loss: 0.3906 - val_sparse_categorical_accuracy: 0.9135\n",
      "Epoch 18/40\n",
      "185/185 [==============================] - ETA: 0s - loss: 0.1127 - sparse_categorical_accuracy: 0.9602\n",
      "Epoch 18: val_loss did not improve from 0.38597\n",
      "185/185 [==============================] - 6s 33ms/step - loss: 0.1127 - sparse_categorical_accuracy: 0.9602 - val_loss: 0.4281 - val_sparse_categorical_accuracy: 0.9122\n",
      "Epoch 19/40\n",
      "184/185 [============================>.] - ETA: 0s - loss: 0.1118 - sparse_categorical_accuracy: 0.9608\n",
      "Epoch 19: val_loss did not improve from 0.38597\n",
      "185/185 [==============================] - 6s 34ms/step - loss: 0.1119 - sparse_categorical_accuracy: 0.9608 - val_loss: 0.4226 - val_sparse_categorical_accuracy: 0.9121\n",
      "Epoch 20/40\n",
      "185/185 [==============================] - ETA: 0s - loss: 0.1071 - sparse_categorical_accuracy: 0.9628\n",
      "Epoch 20: val_loss did not improve from 0.38597\n",
      "185/185 [==============================] - 6s 33ms/step - loss: 0.1071 - sparse_categorical_accuracy: 0.9628 - val_loss: 0.3921 - val_sparse_categorical_accuracy: 0.9160\n",
      "Epoch 21/40\n",
      "184/185 [============================>.] - ETA: 0s - loss: 0.1066 - sparse_categorical_accuracy: 0.9631\n",
      "Epoch 21: val_loss improved from 0.38597 to 0.37258, saving model to results/white/network\\allopezr_2d_23x22_16_0.h5\n",
      "185/185 [==============================] - 6s 34ms/step - loss: 0.1066 - sparse_categorical_accuracy: 0.9631 - val_loss: 0.3726 - val_sparse_categorical_accuracy: 0.9181\n",
      "Epoch 22/40\n",
      "185/185 [==============================] - ETA: 0s - loss: 0.1031 - sparse_categorical_accuracy: 0.9640\n",
      "Epoch 22: val_loss did not improve from 0.37258\n",
      "185/185 [==============================] - 6s 34ms/step - loss: 0.1031 - sparse_categorical_accuracy: 0.9640 - val_loss: 0.3967 - val_sparse_categorical_accuracy: 0.9176\n",
      "Epoch 23/40\n",
      "185/185 [==============================] - ETA: 0s - loss: 0.1018 - sparse_categorical_accuracy: 0.9649\n",
      "Epoch 23: val_loss did not improve from 0.37258\n",
      "185/185 [==============================] - 6s 33ms/step - loss: 0.1018 - sparse_categorical_accuracy: 0.9649 - val_loss: 0.4099 - val_sparse_categorical_accuracy: 0.9048\n",
      "Epoch 24/40\n",
      "185/185 [==============================] - ETA: 0s - loss: 0.0987 - sparse_categorical_accuracy: 0.9658\n",
      "Epoch 24: val_loss did not improve from 0.37258\n",
      "185/185 [==============================] - 6s 34ms/step - loss: 0.0987 - sparse_categorical_accuracy: 0.9658 - val_loss: 0.3863 - val_sparse_categorical_accuracy: 0.9172\n",
      "Epoch 25/40\n",
      "184/185 [============================>.] - ETA: 0s - loss: 0.0976 - sparse_categorical_accuracy: 0.9663\n",
      "Epoch 25: val_loss improved from 0.37258 to 0.35974, saving model to results/white/network\\allopezr_2d_23x22_16_0.h5\n",
      "185/185 [==============================] - 6s 33ms/step - loss: 0.0975 - sparse_categorical_accuracy: 0.9663 - val_loss: 0.3597 - val_sparse_categorical_accuracy: 0.9207\n",
      "Epoch 26/40\n",
      "184/185 [============================>.] - ETA: 0s - loss: 0.0966 - sparse_categorical_accuracy: 0.9667\n",
      "Epoch 26: val_loss did not improve from 0.35974\n",
      "185/185 [==============================] - 6s 33ms/step - loss: 0.0966 - sparse_categorical_accuracy: 0.9667 - val_loss: 0.3648 - val_sparse_categorical_accuracy: 0.9183\n",
      "Epoch 27/40\n",
      "185/185 [==============================] - ETA: 0s - loss: 0.0938 - sparse_categorical_accuracy: 0.9672\n",
      "Epoch 27: val_loss improved from 0.35974 to 0.34726, saving model to results/white/network\\allopezr_2d_23x22_16_0.h5\n",
      "185/185 [==============================] - 6s 34ms/step - loss: 0.0938 - sparse_categorical_accuracy: 0.9672 - val_loss: 0.3473 - val_sparse_categorical_accuracy: 0.9217\n",
      "Epoch 28/40\n",
      "185/185 [==============================] - ETA: 0s - loss: 0.0928 - sparse_categorical_accuracy: 0.9684\n",
      "Epoch 28: val_loss did not improve from 0.34726\n",
      "185/185 [==============================] - 6s 34ms/step - loss: 0.0928 - sparse_categorical_accuracy: 0.9684 - val_loss: 0.3586 - val_sparse_categorical_accuracy: 0.9179\n",
      "Epoch 29/40\n",
      "185/185 [==============================] - ETA: 0s - loss: 0.0907 - sparse_categorical_accuracy: 0.9688\n",
      "Epoch 29: val_loss did not improve from 0.34726\n",
      "185/185 [==============================] - 6s 35ms/step - loss: 0.0907 - sparse_categorical_accuracy: 0.9688 - val_loss: 0.3868 - val_sparse_categorical_accuracy: 0.9220\n",
      "Epoch 30/40\n",
      "173/185 [===========================>..] - ETA: 0s - loss: 0.0862 - sparse_categorical_accuracy: 0.9703"
     ]
    },
    {
     "ename": "KeyboardInterrupt",
     "evalue": "",
     "output_type": "error",
     "traceback": [
      "\u001B[1;31m---------------------------------------------------------------------------\u001B[0m",
      "\u001B[1;31mKeyboardInterrupt\u001B[0m                         Traceback (most recent call last)",
      "Cell \u001B[1;32mIn [16], line 25\u001B[0m\n\u001B[0;32m     14\u001B[0m compile_network(model, network_type, network_name, num_classes, show_summary\u001B[38;5;241m=\u001B[39m\u001B[38;5;28;01mTrue\u001B[39;00m, render_image\u001B[38;5;241m=\u001B[39m\u001B[38;5;28;01mTrue\u001B[39;00m)\n\u001B[0;32m     16\u001B[0m \u001B[38;5;28;01mfor\u001B[39;00m it \u001B[38;5;129;01min\u001B[39;00m \u001B[38;5;28mrange\u001B[39m(\u001B[38;5;241m5\u001B[39m):\n\u001B[0;32m     17\u001B[0m     \u001B[38;5;66;03m# X_train_transformed = X_train.copy()\u001B[39;00m\n\u001B[0;32m     18\u001B[0m     \u001B[38;5;66;03m#\u001B[39;00m\n\u001B[1;32m   (...)\u001B[0m\n\u001B[0;32m     22\u001B[0m     \u001B[38;5;66;03m#         randomness.set_seed(random_seed)\u001B[39;00m\n\u001B[0;32m     23\u001B[0m     \u001B[38;5;66;03m#         X_train_transformed[i, :, :, layer] = transforms(image=X_train_transformed[i, :, :, layer])[\"image\"]\u001B[39;00m\n\u001B[1;32m---> 25\u001B[0m     history\u001B[38;5;241m.\u001B[39mappend_history(\u001B[43mrun_model\u001B[49m\u001B[43m(\u001B[49m\u001B[43mmodel\u001B[49m\u001B[43m,\u001B[49m\u001B[43m \u001B[49m\u001B[43mX_train\u001B[49m\u001B[43m,\u001B[49m\u001B[43m \u001B[49m\u001B[43my_train\u001B[49m\u001B[43m,\u001B[49m\u001B[43m \u001B[49m\u001B[43mvalidation_split\u001B[49m\u001B[38;5;241;43m=\u001B[39;49m\u001B[43mvalidation_split\u001B[49m\u001B[43m,\u001B[49m\u001B[43m \u001B[49m\u001B[43mcallbacks\u001B[49m\u001B[38;5;241;43m=\u001B[39;49m\u001B[43mcallbacks\u001B[49m\u001B[43m)\u001B[49m\u001B[38;5;241m.\u001B[39mhistory, time_callback)\n",
      "File \u001B[1;32m~\\Documents\\GitHub\\VineyardUAVClassification\\cnn_builder.py:201\u001B[0m, in \u001B[0;36mrun_model\u001B[1;34m(model, X_train, y_train, callbacks, validation_split)\u001B[0m\n\u001B[0;32m    195\u001B[0m \u001B[38;5;124;03m\"\"\"\u001B[39;00m\n\u001B[0;32m    196\u001B[0m \u001B[38;5;124;03mFits the model with X_train and y_train.\u001B[39;00m\n\u001B[0;32m    197\u001B[0m \u001B[38;5;124;03m\"\"\"\u001B[39;00m\n\u001B[0;32m    199\u001B[0m \u001B[38;5;28mprint\u001B[39m(\u001B[38;5;124m'\u001B[39m\u001B[38;5;124mTraining for \u001B[39m\u001B[38;5;132;01m{}\u001B[39;00m\u001B[38;5;124m epochs with batch size of \u001B[39m\u001B[38;5;132;01m{}\u001B[39;00m\u001B[38;5;124m...\u001B[39m\u001B[38;5;124m'\u001B[39m\u001B[38;5;241m.\u001B[39mformat(cfg\u001B[38;5;241m.\u001B[39mepochs, cfg\u001B[38;5;241m.\u001B[39mbatch_size))\n\u001B[1;32m--> 201\u001B[0m \u001B[38;5;28;01mreturn\u001B[39;00m \u001B[43mmodel\u001B[49m\u001B[38;5;241;43m.\u001B[39;49m\u001B[43mfit\u001B[49m\u001B[43m(\u001B[49m\u001B[43mX_train\u001B[49m\u001B[43m,\u001B[49m\u001B[43m \u001B[49m\u001B[43my_train\u001B[49m\u001B[43m,\u001B[49m\u001B[43m \u001B[49m\u001B[43mvalidation_split\u001B[49m\u001B[38;5;241;43m=\u001B[39;49m\u001B[43mvalidation_split\u001B[49m\u001B[43m,\u001B[49m\u001B[43m \u001B[49m\u001B[43mepochs\u001B[49m\u001B[38;5;241;43m=\u001B[39;49m\u001B[43mcfg\u001B[49m\u001B[38;5;241;43m.\u001B[39;49m\u001B[43mepochs\u001B[49m\u001B[43m,\u001B[49m\u001B[43m \u001B[49m\u001B[43mbatch_size\u001B[49m\u001B[38;5;241;43m=\u001B[39;49m\u001B[43mcfg\u001B[49m\u001B[38;5;241;43m.\u001B[39;49m\u001B[43mbatch_size\u001B[49m\u001B[43m,\u001B[49m\n\u001B[0;32m    202\u001B[0m \u001B[43m                 \u001B[49m\u001B[43mcallbacks\u001B[49m\u001B[38;5;241;43m=\u001B[39;49m\u001B[43mcallbacks\u001B[49m\u001B[43m)\u001B[49m\n",
      "File \u001B[1;32m~\\Documents\\GitHub\\VineyardUAVClassification\\venv\\lib\\site-packages\\keras\\utils\\traceback_utils.py:65\u001B[0m, in \u001B[0;36mfilter_traceback.<locals>.error_handler\u001B[1;34m(*args, **kwargs)\u001B[0m\n\u001B[0;32m     63\u001B[0m filtered_tb \u001B[38;5;241m=\u001B[39m \u001B[38;5;28;01mNone\u001B[39;00m\n\u001B[0;32m     64\u001B[0m \u001B[38;5;28;01mtry\u001B[39;00m:\n\u001B[1;32m---> 65\u001B[0m     \u001B[38;5;28;01mreturn\u001B[39;00m fn(\u001B[38;5;241m*\u001B[39margs, \u001B[38;5;241m*\u001B[39m\u001B[38;5;241m*\u001B[39mkwargs)\n\u001B[0;32m     66\u001B[0m \u001B[38;5;28;01mexcept\u001B[39;00m \u001B[38;5;167;01mException\u001B[39;00m \u001B[38;5;28;01mas\u001B[39;00m e:\n\u001B[0;32m     67\u001B[0m     filtered_tb \u001B[38;5;241m=\u001B[39m _process_traceback_frames(e\u001B[38;5;241m.\u001B[39m__traceback__)\n",
      "File \u001B[1;32m~\\Documents\\GitHub\\VineyardUAVClassification\\venv\\lib\\site-packages\\keras\\engine\\training.py:1564\u001B[0m, in \u001B[0;36mModel.fit\u001B[1;34m(self, x, y, batch_size, epochs, verbose, callbacks, validation_split, validation_data, shuffle, class_weight, sample_weight, initial_epoch, steps_per_epoch, validation_steps, validation_batch_size, validation_freq, max_queue_size, workers, use_multiprocessing)\u001B[0m\n\u001B[0;32m   1556\u001B[0m \u001B[38;5;28;01mwith\u001B[39;00m tf\u001B[38;5;241m.\u001B[39mprofiler\u001B[38;5;241m.\u001B[39mexperimental\u001B[38;5;241m.\u001B[39mTrace(\n\u001B[0;32m   1557\u001B[0m     \u001B[38;5;124m\"\u001B[39m\u001B[38;5;124mtrain\u001B[39m\u001B[38;5;124m\"\u001B[39m,\n\u001B[0;32m   1558\u001B[0m     epoch_num\u001B[38;5;241m=\u001B[39mepoch,\n\u001B[1;32m   (...)\u001B[0m\n\u001B[0;32m   1561\u001B[0m     _r\u001B[38;5;241m=\u001B[39m\u001B[38;5;241m1\u001B[39m,\n\u001B[0;32m   1562\u001B[0m ):\n\u001B[0;32m   1563\u001B[0m     callbacks\u001B[38;5;241m.\u001B[39mon_train_batch_begin(step)\n\u001B[1;32m-> 1564\u001B[0m     tmp_logs \u001B[38;5;241m=\u001B[39m \u001B[38;5;28;43mself\u001B[39;49m\u001B[38;5;241;43m.\u001B[39;49m\u001B[43mtrain_function\u001B[49m\u001B[43m(\u001B[49m\u001B[43miterator\u001B[49m\u001B[43m)\u001B[49m\n\u001B[0;32m   1565\u001B[0m     \u001B[38;5;28;01mif\u001B[39;00m data_handler\u001B[38;5;241m.\u001B[39mshould_sync:\n\u001B[0;32m   1566\u001B[0m         context\u001B[38;5;241m.\u001B[39masync_wait()\n",
      "File \u001B[1;32m~\\Documents\\GitHub\\VineyardUAVClassification\\venv\\lib\\site-packages\\tensorflow\\python\\util\\traceback_utils.py:150\u001B[0m, in \u001B[0;36mfilter_traceback.<locals>.error_handler\u001B[1;34m(*args, **kwargs)\u001B[0m\n\u001B[0;32m    148\u001B[0m filtered_tb \u001B[38;5;241m=\u001B[39m \u001B[38;5;28;01mNone\u001B[39;00m\n\u001B[0;32m    149\u001B[0m \u001B[38;5;28;01mtry\u001B[39;00m:\n\u001B[1;32m--> 150\u001B[0m   \u001B[38;5;28;01mreturn\u001B[39;00m fn(\u001B[38;5;241m*\u001B[39margs, \u001B[38;5;241m*\u001B[39m\u001B[38;5;241m*\u001B[39mkwargs)\n\u001B[0;32m    151\u001B[0m \u001B[38;5;28;01mexcept\u001B[39;00m \u001B[38;5;167;01mException\u001B[39;00m \u001B[38;5;28;01mas\u001B[39;00m e:\n\u001B[0;32m    152\u001B[0m   filtered_tb \u001B[38;5;241m=\u001B[39m _process_traceback_frames(e\u001B[38;5;241m.\u001B[39m__traceback__)\n",
      "File \u001B[1;32m~\\Documents\\GitHub\\VineyardUAVClassification\\venv\\lib\\site-packages\\tensorflow\\python\\eager\\def_function.py:915\u001B[0m, in \u001B[0;36mFunction.__call__\u001B[1;34m(self, *args, **kwds)\u001B[0m\n\u001B[0;32m    912\u001B[0m compiler \u001B[38;5;241m=\u001B[39m \u001B[38;5;124m\"\u001B[39m\u001B[38;5;124mxla\u001B[39m\u001B[38;5;124m\"\u001B[39m \u001B[38;5;28;01mif\u001B[39;00m \u001B[38;5;28mself\u001B[39m\u001B[38;5;241m.\u001B[39m_jit_compile \u001B[38;5;28;01melse\u001B[39;00m \u001B[38;5;124m\"\u001B[39m\u001B[38;5;124mnonXla\u001B[39m\u001B[38;5;124m\"\u001B[39m\n\u001B[0;32m    914\u001B[0m \u001B[38;5;28;01mwith\u001B[39;00m OptionalXlaContext(\u001B[38;5;28mself\u001B[39m\u001B[38;5;241m.\u001B[39m_jit_compile):\n\u001B[1;32m--> 915\u001B[0m   result \u001B[38;5;241m=\u001B[39m \u001B[38;5;28mself\u001B[39m\u001B[38;5;241m.\u001B[39m_call(\u001B[38;5;241m*\u001B[39margs, \u001B[38;5;241m*\u001B[39m\u001B[38;5;241m*\u001B[39mkwds)\n\u001B[0;32m    917\u001B[0m new_tracing_count \u001B[38;5;241m=\u001B[39m \u001B[38;5;28mself\u001B[39m\u001B[38;5;241m.\u001B[39mexperimental_get_tracing_count()\n\u001B[0;32m    918\u001B[0m without_tracing \u001B[38;5;241m=\u001B[39m (tracing_count \u001B[38;5;241m==\u001B[39m new_tracing_count)\n",
      "File \u001B[1;32m~\\Documents\\GitHub\\VineyardUAVClassification\\venv\\lib\\site-packages\\tensorflow\\python\\eager\\def_function.py:947\u001B[0m, in \u001B[0;36mFunction._call\u001B[1;34m(self, *args, **kwds)\u001B[0m\n\u001B[0;32m    944\u001B[0m   \u001B[38;5;28mself\u001B[39m\u001B[38;5;241m.\u001B[39m_lock\u001B[38;5;241m.\u001B[39mrelease()\n\u001B[0;32m    945\u001B[0m   \u001B[38;5;66;03m# In this case we have created variables on the first call, so we run the\u001B[39;00m\n\u001B[0;32m    946\u001B[0m   \u001B[38;5;66;03m# defunned version which is guaranteed to never create variables.\u001B[39;00m\n\u001B[1;32m--> 947\u001B[0m   \u001B[38;5;28;01mreturn\u001B[39;00m \u001B[38;5;28mself\u001B[39m\u001B[38;5;241m.\u001B[39m_stateless_fn(\u001B[38;5;241m*\u001B[39margs, \u001B[38;5;241m*\u001B[39m\u001B[38;5;241m*\u001B[39mkwds)  \u001B[38;5;66;03m# pylint: disable=not-callable\u001B[39;00m\n\u001B[0;32m    948\u001B[0m \u001B[38;5;28;01melif\u001B[39;00m \u001B[38;5;28mself\u001B[39m\u001B[38;5;241m.\u001B[39m_stateful_fn \u001B[38;5;129;01mis\u001B[39;00m \u001B[38;5;129;01mnot\u001B[39;00m \u001B[38;5;28;01mNone\u001B[39;00m:\n\u001B[0;32m    949\u001B[0m   \u001B[38;5;66;03m# Release the lock early so that multiple threads can perform the call\u001B[39;00m\n\u001B[0;32m    950\u001B[0m   \u001B[38;5;66;03m# in parallel.\u001B[39;00m\n\u001B[0;32m    951\u001B[0m   \u001B[38;5;28mself\u001B[39m\u001B[38;5;241m.\u001B[39m_lock\u001B[38;5;241m.\u001B[39mrelease()\n",
      "File \u001B[1;32m~\\Documents\\GitHub\\VineyardUAVClassification\\venv\\lib\\site-packages\\tensorflow\\python\\eager\\function.py:2496\u001B[0m, in \u001B[0;36mFunction.__call__\u001B[1;34m(self, *args, **kwargs)\u001B[0m\n\u001B[0;32m   2493\u001B[0m \u001B[38;5;28;01mwith\u001B[39;00m \u001B[38;5;28mself\u001B[39m\u001B[38;5;241m.\u001B[39m_lock:\n\u001B[0;32m   2494\u001B[0m   (graph_function,\n\u001B[0;32m   2495\u001B[0m    filtered_flat_args) \u001B[38;5;241m=\u001B[39m \u001B[38;5;28mself\u001B[39m\u001B[38;5;241m.\u001B[39m_maybe_define_function(args, kwargs)\n\u001B[1;32m-> 2496\u001B[0m \u001B[38;5;28;01mreturn\u001B[39;00m \u001B[43mgraph_function\u001B[49m\u001B[38;5;241;43m.\u001B[39;49m\u001B[43m_call_flat\u001B[49m\u001B[43m(\u001B[49m\n\u001B[0;32m   2497\u001B[0m \u001B[43m    \u001B[49m\u001B[43mfiltered_flat_args\u001B[49m\u001B[43m,\u001B[49m\u001B[43m \u001B[49m\u001B[43mcaptured_inputs\u001B[49m\u001B[38;5;241;43m=\u001B[39;49m\u001B[43mgraph_function\u001B[49m\u001B[38;5;241;43m.\u001B[39;49m\u001B[43mcaptured_inputs\u001B[49m\u001B[43m)\u001B[49m\n",
      "File \u001B[1;32m~\\Documents\\GitHub\\VineyardUAVClassification\\venv\\lib\\site-packages\\tensorflow\\python\\eager\\function.py:1862\u001B[0m, in \u001B[0;36mConcreteFunction._call_flat\u001B[1;34m(self, args, captured_inputs, cancellation_manager)\u001B[0m\n\u001B[0;32m   1858\u001B[0m possible_gradient_type \u001B[38;5;241m=\u001B[39m gradients_util\u001B[38;5;241m.\u001B[39mPossibleTapeGradientTypes(args)\n\u001B[0;32m   1859\u001B[0m \u001B[38;5;28;01mif\u001B[39;00m (possible_gradient_type \u001B[38;5;241m==\u001B[39m gradients_util\u001B[38;5;241m.\u001B[39mPOSSIBLE_GRADIENT_TYPES_NONE\n\u001B[0;32m   1860\u001B[0m     \u001B[38;5;129;01mand\u001B[39;00m executing_eagerly):\n\u001B[0;32m   1861\u001B[0m   \u001B[38;5;66;03m# No tape is watching; skip to running the function.\u001B[39;00m\n\u001B[1;32m-> 1862\u001B[0m   \u001B[38;5;28;01mreturn\u001B[39;00m \u001B[38;5;28mself\u001B[39m\u001B[38;5;241m.\u001B[39m_build_call_outputs(\u001B[38;5;28;43mself\u001B[39;49m\u001B[38;5;241;43m.\u001B[39;49m\u001B[43m_inference_function\u001B[49m\u001B[38;5;241;43m.\u001B[39;49m\u001B[43mcall\u001B[49m\u001B[43m(\u001B[49m\n\u001B[0;32m   1863\u001B[0m \u001B[43m      \u001B[49m\u001B[43mctx\u001B[49m\u001B[43m,\u001B[49m\u001B[43m \u001B[49m\u001B[43margs\u001B[49m\u001B[43m,\u001B[49m\u001B[43m \u001B[49m\u001B[43mcancellation_manager\u001B[49m\u001B[38;5;241;43m=\u001B[39;49m\u001B[43mcancellation_manager\u001B[49m\u001B[43m)\u001B[49m)\n\u001B[0;32m   1864\u001B[0m forward_backward \u001B[38;5;241m=\u001B[39m \u001B[38;5;28mself\u001B[39m\u001B[38;5;241m.\u001B[39m_select_forward_and_backward_functions(\n\u001B[0;32m   1865\u001B[0m     args,\n\u001B[0;32m   1866\u001B[0m     possible_gradient_type,\n\u001B[0;32m   1867\u001B[0m     executing_eagerly)\n\u001B[0;32m   1868\u001B[0m forward_function, args_with_tangents \u001B[38;5;241m=\u001B[39m forward_backward\u001B[38;5;241m.\u001B[39mforward()\n",
      "File \u001B[1;32m~\\Documents\\GitHub\\VineyardUAVClassification\\venv\\lib\\site-packages\\tensorflow\\python\\eager\\function.py:499\u001B[0m, in \u001B[0;36m_EagerDefinedFunction.call\u001B[1;34m(self, ctx, args, cancellation_manager)\u001B[0m\n\u001B[0;32m    497\u001B[0m \u001B[38;5;28;01mwith\u001B[39;00m _InterpolateFunctionError(\u001B[38;5;28mself\u001B[39m):\n\u001B[0;32m    498\u001B[0m   \u001B[38;5;28;01mif\u001B[39;00m cancellation_manager \u001B[38;5;129;01mis\u001B[39;00m \u001B[38;5;28;01mNone\u001B[39;00m:\n\u001B[1;32m--> 499\u001B[0m     outputs \u001B[38;5;241m=\u001B[39m \u001B[43mexecute\u001B[49m\u001B[38;5;241;43m.\u001B[39;49m\u001B[43mexecute\u001B[49m\u001B[43m(\u001B[49m\n\u001B[0;32m    500\u001B[0m \u001B[43m        \u001B[49m\u001B[38;5;28;43mstr\u001B[39;49m\u001B[43m(\u001B[49m\u001B[38;5;28;43mself\u001B[39;49m\u001B[38;5;241;43m.\u001B[39;49m\u001B[43msignature\u001B[49m\u001B[38;5;241;43m.\u001B[39;49m\u001B[43mname\u001B[49m\u001B[43m)\u001B[49m\u001B[43m,\u001B[49m\n\u001B[0;32m    501\u001B[0m \u001B[43m        \u001B[49m\u001B[43mnum_outputs\u001B[49m\u001B[38;5;241;43m=\u001B[39;49m\u001B[38;5;28;43mself\u001B[39;49m\u001B[38;5;241;43m.\u001B[39;49m\u001B[43m_num_outputs\u001B[49m\u001B[43m,\u001B[49m\n\u001B[0;32m    502\u001B[0m \u001B[43m        \u001B[49m\u001B[43minputs\u001B[49m\u001B[38;5;241;43m=\u001B[39;49m\u001B[43margs\u001B[49m\u001B[43m,\u001B[49m\n\u001B[0;32m    503\u001B[0m \u001B[43m        \u001B[49m\u001B[43mattrs\u001B[49m\u001B[38;5;241;43m=\u001B[39;49m\u001B[43mattrs\u001B[49m\u001B[43m,\u001B[49m\n\u001B[0;32m    504\u001B[0m \u001B[43m        \u001B[49m\u001B[43mctx\u001B[49m\u001B[38;5;241;43m=\u001B[39;49m\u001B[43mctx\u001B[49m\u001B[43m)\u001B[49m\n\u001B[0;32m    505\u001B[0m   \u001B[38;5;28;01melse\u001B[39;00m:\n\u001B[0;32m    506\u001B[0m     outputs \u001B[38;5;241m=\u001B[39m execute\u001B[38;5;241m.\u001B[39mexecute_with_cancellation(\n\u001B[0;32m    507\u001B[0m         \u001B[38;5;28mstr\u001B[39m(\u001B[38;5;28mself\u001B[39m\u001B[38;5;241m.\u001B[39msignature\u001B[38;5;241m.\u001B[39mname),\n\u001B[0;32m    508\u001B[0m         num_outputs\u001B[38;5;241m=\u001B[39m\u001B[38;5;28mself\u001B[39m\u001B[38;5;241m.\u001B[39m_num_outputs,\n\u001B[1;32m   (...)\u001B[0m\n\u001B[0;32m    511\u001B[0m         ctx\u001B[38;5;241m=\u001B[39mctx,\n\u001B[0;32m    512\u001B[0m         cancellation_manager\u001B[38;5;241m=\u001B[39mcancellation_manager)\n",
      "File \u001B[1;32m~\\Documents\\GitHub\\VineyardUAVClassification\\venv\\lib\\site-packages\\tensorflow\\python\\eager\\execute.py:54\u001B[0m, in \u001B[0;36mquick_execute\u001B[1;34m(op_name, num_outputs, inputs, attrs, ctx, name)\u001B[0m\n\u001B[0;32m     52\u001B[0m \u001B[38;5;28;01mtry\u001B[39;00m:\n\u001B[0;32m     53\u001B[0m   ctx\u001B[38;5;241m.\u001B[39mensure_initialized()\n\u001B[1;32m---> 54\u001B[0m   tensors \u001B[38;5;241m=\u001B[39m \u001B[43mpywrap_tfe\u001B[49m\u001B[38;5;241;43m.\u001B[39;49m\u001B[43mTFE_Py_Execute\u001B[49m\u001B[43m(\u001B[49m\u001B[43mctx\u001B[49m\u001B[38;5;241;43m.\u001B[39;49m\u001B[43m_handle\u001B[49m\u001B[43m,\u001B[49m\u001B[43m \u001B[49m\u001B[43mdevice_name\u001B[49m\u001B[43m,\u001B[49m\u001B[43m \u001B[49m\u001B[43mop_name\u001B[49m\u001B[43m,\u001B[49m\n\u001B[0;32m     55\u001B[0m \u001B[43m                                      \u001B[49m\u001B[43minputs\u001B[49m\u001B[43m,\u001B[49m\u001B[43m \u001B[49m\u001B[43mattrs\u001B[49m\u001B[43m,\u001B[49m\u001B[43m \u001B[49m\u001B[43mnum_outputs\u001B[49m\u001B[43m)\u001B[49m\n\u001B[0;32m     56\u001B[0m \u001B[38;5;28;01mexcept\u001B[39;00m core\u001B[38;5;241m.\u001B[39m_NotOkStatusException \u001B[38;5;28;01mas\u001B[39;00m e:\n\u001B[0;32m     57\u001B[0m   \u001B[38;5;28;01mif\u001B[39;00m name \u001B[38;5;129;01mis\u001B[39;00m \u001B[38;5;129;01mnot\u001B[39;00m \u001B[38;5;28;01mNone\u001B[39;00m:\n",
      "\u001B[1;31mKeyboardInterrupt\u001B[0m: "
     ]
    }
   ],
   "source": [
    "network_type = 'allopezr_2d'\n",
    "read_json_config(paths.config_file, network_type=network_type)\n",
    "\n",
    "network_name = get_name(network_type)\n",
    "num_classes = hc_set.get_num_classes()\n",
    "img_shape = X_train[0].shape\n",
    "\n",
    "validation_sequence = TransformedValidation()\n",
    "transformed_x_train = TransformedBatch(X_train, y_train, batch_size=16, augmentations=transforms, validation_sequence=validation_sequence, num_epochs=config.epochs, num_splits=3)\n",
    "\n",
    "history = training_history.TrainingHistory(accuracy_name='sparse_categorical_accuracy')\n",
    "callbacks, time_callback = get_callback_list(model_name=network_name)\n",
    "model = build_network(network_type=network_type, num_classes=num_classes, image_dim=img_shape)\n",
    "compile_network(model, network_type, network_name, num_classes, show_summary=True, render_image=True)\n",
    "\n",
    "for it in range(5):\n",
    "    X_train_transformed = X_train.copy()\n",
    "\n",
    "    for i in range(len(X_train_transformed)):\n",
    "        random_seed = np.random.randint(0, X_train_transformed.shape[0] * 10)\n",
    "        for layer in range(X_train_transformed.shape[-1]):\n",
    "            randomness.set_seed(random_seed)\n",
    "            X_train_transformed[i, :, :, layer] = transforms(image=X_train_transformed[i, :, :, layer])[\"image\"]\n",
    "\n",
    "    history.append_history(run_model(model, X_train_transformed, y_train, validation_split=validation_split, callbacks=callbacks).history, time_callback)"
   ],
   "metadata": {
    "collapsed": false
   }
  },
  {
   "cell_type": "code",
   "execution_count": 4,
   "outputs": [
    {
     "ename": "NameError",
     "evalue": "name 'hc_set' is not defined",
     "output_type": "error",
     "traceback": [
      "\u001B[1;31m---------------------------------------------------------------------------\u001B[0m",
      "\u001B[1;31mNameError\u001B[0m                                 Traceback (most recent call last)",
      "Cell \u001B[1;32mIn [4], line 5\u001B[0m\n\u001B[0;32m      2\u001B[0m read_json_config(paths\u001B[38;5;241m.\u001B[39mconfig_file, network_type\u001B[38;5;241m=\u001B[39mnetwork_type)\n\u001B[0;32m      4\u001B[0m network_name \u001B[38;5;241m=\u001B[39m get_name(network_type)\n\u001B[1;32m----> 5\u001B[0m num_classes \u001B[38;5;241m=\u001B[39m \u001B[43mhc_set\u001B[49m\u001B[38;5;241m.\u001B[39mget_num_classes()\n\u001B[0;32m      6\u001B[0m img_shape \u001B[38;5;241m=\u001B[39m X_train[\u001B[38;5;241m0\u001B[39m]\u001B[38;5;241m.\u001B[39mshape\n\u001B[0;32m      8\u001B[0m validation_sequence \u001B[38;5;241m=\u001B[39m TransformedValidation()\n",
      "\u001B[1;31mNameError\u001B[0m: name 'hc_set' is not defined"
     ]
    }
   ],
   "source": [
    "prediction = model.predict(X_test)\n",
    "model_predictions = np.argmax(prediction, axis=1)\n",
    "render_confusion_matrix(y_test, model_predictions, network_name)"
   ],
   "metadata": {
    "collapsed": false
   }
  },
  {
   "cell_type": "code",
   "execution_count": null,
   "outputs": [],
   "source": [],
   "metadata": {
    "collapsed": false
   }
  }
 ],
 "metadata": {
  "kernelspec": {
   "display_name": "Python 3",
   "language": "python",
   "name": "python3"
  },
  "language_info": {
   "codemirror_mode": {
    "name": "ipython",
    "version": 2
   },
   "file_extension": ".py",
   "mimetype": "text/x-python",
   "name": "python",
   "nbconvert_exporter": "python",
   "pygments_lexer": "ipython2",
   "version": "2.7.6"
  }
 },
 "nbformat": 4,
 "nbformat_minor": 0
}
