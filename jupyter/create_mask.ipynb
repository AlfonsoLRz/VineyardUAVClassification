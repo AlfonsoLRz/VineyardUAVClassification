{
 "cells": [
  {
   "cell_type": "code",
   "execution_count": 8,
   "metadata": {
    "collapsed": true
   },
   "outputs": [
    {
     "name": "stdout",
     "output_type": "stream",
     "text": [
      "The autoreload extension is already loaded. To reload it, use:\n",
      "  %reload_ext autoreload\n"
     ]
    }
   ],
   "source": [
    "import config\n",
    "import paths\n",
    "from cnn_builder import *\n",
    "from config import *\n",
    "from dataset_functions import *\n",
    "from hypercube import *\n",
    "from hypercube_set import HypercubeSet\n",
    "from hypercube_loader import *\n",
    "import numpy as np\n",
    "import rendering\n",
    "\n",
    "import os\n",
    "os.environ[\"PATH\"] += os.pathsep + 'C:/Program Files/Graphviz/bin/'\n",
    "os.chdir(os.getcwd().split(\"jupyter\")[0])\n",
    "\n",
    "inf = 2e32\n",
    "\n",
    "%load_ext autoreload\n",
    "%autoreload 2"
   ]
  },
  {
   "cell_type": "code",
   "execution_count": 32,
   "outputs": [
    {
     "name": "stdout",
     "output_type": "stream",
     "text": [
      "Reading media/Mateus_2022/Area01\\raw_112_rf.hdr ...\n",
      "Reading media/Mateus_2022/Area01\\raw_1984_rf.hdr ...\n",
      "Reading media/Mateus_2022/Area01\\raw_3904_rf.hdr ...\n",
      "Reading media/Mateus_2022/Area01\\raw_5744_rf.hdr ...\n",
      "Reading media/Mateus_2022/Area01\\raw_7584_rf.hdr ...\n"
     ]
    }
   ],
   "source": [
    "hc_array=load_hypercubes(plot_hc=False, plot_mask=False, n_max_cubes=inf)"
   ],
   "metadata": {
    "collapsed": false
   }
  },
  {
   "cell_type": "code",
   "execution_count": 37,
   "outputs": [],
   "source": [
    "for idx, cube in enumerate(hc_array):\n",
    "    ndvi = cube.calculate_index(thresholding=True, index=VegetationIndex.NDVI, threshold=.6)\n",
    "    mask = cube.get_class_mask()\n",
    "\n",
    "    # Include pixels with value 255, from ndvi to mask\n",
    "    indices = np.where(ndvi == 255)\n",
    "\n",
    "    # iterate over indices\n",
    "    for i in range(len(indices[0])):\n",
    "        if mask[indices[0][i]][indices[1][i]][0] == 0 and mask[indices[0][i]][indices[1][i]][1] == 0 and mask[indices[0][i]][indices[1][i]][2] == 0:\n",
    "            mask[indices[0][i]][indices[1][i]][0] = 255\n",
    "            mask[indices[0][i]][indices[1][i]][1] = 255\n",
    "            mask[indices[0][i]][indices[1][i]][2] = 255\n",
    "\n",
    "    # Save mask in file\n",
    "    Hypercube.save_mask(mask=mask, path=paths.result_folder + \"new_mask/mask_ndvi_{}.png\".format(idx))"
   ],
   "metadata": {
    "collapsed": false
   }
  },
  {
   "cell_type": "code",
   "execution_count": null,
   "outputs": [],
   "source": [],
   "metadata": {
    "collapsed": false
   }
  }
 ],
 "metadata": {
  "kernelspec": {
   "display_name": "Python 3",
   "language": "python",
   "name": "python3"
  },
  "language_info": {
   "codemirror_mode": {
    "name": "ipython",
    "version": 2
   },
   "file_extension": ".py",
   "mimetype": "text/x-python",
   "name": "python",
   "nbconvert_exporter": "python",
   "pygments_lexer": "ipython2",
   "version": "2.7.6"
  }
 },
 "nbformat": 4,
 "nbformat_minor": 0
}
