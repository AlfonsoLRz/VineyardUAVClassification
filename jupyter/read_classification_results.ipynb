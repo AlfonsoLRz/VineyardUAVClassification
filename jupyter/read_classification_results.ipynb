{
 "cells": [
  {
   "cell_type": "code",
   "execution_count": 36,
   "metadata": {
    "collapsed": true
   },
   "outputs": [
    {
     "name": "stdout",
     "output_type": "stream",
     "text": [
      "The autoreload extension is already loaded. To reload it, use:\n",
      "  %reload_ext autoreload\n"
     ]
    }
   ],
   "source": [
    "import config\n",
    "from cnn_builder import *\n",
    "from dataset_functions import *\n",
    "import gc\n",
    "from hypercube_set import HypercubeSet\n",
    "from hypercube_loader import *\n",
    "import papers.aspn\n",
    "import glob\n",
    "import keras\n",
    "import os\n",
    "import paths\n",
    "import pickle\n",
    "from rendering import *\n",
    "\n",
    "os.environ[\"PATH\"] += os.pathsep + 'C:/Program Files/Graphviz/bin/'\n",
    "os.chdir(os.getcwd().split(\"jupyter\")[0])\n",
    "\n",
    "%load_ext autoreload\n",
    "%autoreload 2"
   ]
  },
  {
   "cell_type": "markdown",
   "source": [
    "## Dataset"
   ],
   "metadata": {
    "collapsed": false
   }
  },
  {
   "cell_type": "code",
   "execution_count": null,
   "outputs": [],
   "source": [
    "hc_set = HypercubeSet(hc_array=load_hypercubes(plot_hc=False, plot_mask=True, n_max_cubes=inf))\n",
    "hc_set.print_metadata()\n",
    "\n",
    "#### Dataset creation\n",
    "hc_set.obtain_ground_labels()\n",
    "hc_set.obtain_train_indices(test_percentage=test_split, patch_size=config.patch_size,\n",
    "                            patch_overlapping=30)"
   ],
   "metadata": {
    "collapsed": false
   }
  },
  {
   "cell_type": "code",
   "execution_count": 7,
   "outputs": [],
   "source": [
    "network_type = 'allopezr_2d'\n",
    "read_json_config(paths.config_file, network_type=network_type)\n",
    "network_name = get_name(network_type)"
   ],
   "metadata": {
    "collapsed": false
   }
  },
  {
   "cell_type": "code",
   "execution_count": null,
   "outputs": [],
   "source": [
    "# Look for a file with the network name under the history folder\n",
    "history_file = os.path.join(paths.result_folder + 'history/', network_name + \"*.p\")\n",
    "history_files = glob.glob(history_file)\n",
    "\n",
    "for history_file in history_files:\n",
    "    # Load history with pickle\n",
    "    history = pickle.load(open(history_file, \"rb\"))\n",
    "    render_model_history(history, model_name=network_name)"
   ],
   "metadata": {
    "collapsed": false
   }
  },
  {
   "cell_type": "code",
   "execution_count": null,
   "outputs": [],
   "source": [
    "# Read network weights\n",
    "network_weights_file = os.path.join(paths.result_folder + 'network/', network_name + \"*.h5\")\n",
    "network_weights_files = glob.glob(network_weights_file)\n",
    "if len(network_weights_files) > 0:\n",
    "    network_weights_file = network_weights_files[-1]\n",
    "    print(\"Loading weights file \" + network_weights_file)\n",
    "    model = keras.models.load_model(network_weights_file,\n",
    "                                    custom_objects={'SpatialAttention': papers.aspn.SpatialAttention,\n",
    "                                                    'SecondOrderPooling': papers.aspn.SecondOrderPooling})\n",
    "\n",
    "    model.summary()"
   ],
   "metadata": {
    "collapsed": false
   }
  },
  {
   "cell_type": "markdown",
   "source": [
    "## Window Size Tests"
   ],
   "metadata": {
    "collapsed": false
   }
  },
  {
   "cell_type": "markdown",
   "source": [
    "### OA"
   ],
   "metadata": {
    "collapsed": false
   }
  },
  {
   "cell_type": "code",
   "execution_count": 82,
   "outputs": [],
   "source": [
    "# Read network metrices with network_type root name (e.g. allopezr_2d)\n",
    "network_metrics_file = os.path.join(paths.result_folder + 'metrics/', network_type + \"*_window_size_test.p\")\n",
    "network_metrics_files = glob.glob(network_metrics_file)"
   ],
   "metadata": {
    "collapsed": false
   }
  },
  {
   "cell_type": "code",
   "execution_count": 119,
   "outputs": [
    {
     "data": {
      "text/plain": "<Figure size 600x400 with 1 Axes>",
      "image/png": "[encoded data removed]"
     },
     "metadata": {},
     "output_type": "display_data"
    }
   ],
   "source": [
    "oa_window_size = []\n",
    "\n",
    "for network_metrics_file in network_metrics_files:\n",
    "    # Load history with pickle\n",
    "    network_metrics = pickle.load(open(network_metrics_file, \"rb\"))\n",
    "    # Extract patch size from file name\n",
    "    file_name_strings = network_metrics_file.split(\"_\")\n",
    "    for string in file_name_strings:\n",
    "        if 'x' in string:\n",
    "            patch_size = int(string.split(\"x\")[0])\n",
    "            break\n",
    "\n",
    "    oa_window_size.append((patch_size, network_metrics.get_oa()))\n",
    "\n",
    "# Sort by patch size\n",
    "oa_window_size.sort(key=lambda tup: tup[0])\n",
    "render_window_size_metric(oa_window_size, annotate_indices=[4, 6, 8, 10], title=\"a) Red varieties\")"
   ],
   "metadata": {
    "collapsed": false
   }
  },
  {
   "cell_type": "markdown",
   "source": [
    "### Training time + capacity"
   ],
   "metadata": {
    "collapsed": false
   }
  },
  {
   "cell_type": "code",
   "execution_count": 105,
   "outputs": [],
   "source": [
    "# Read history files\n",
    "# Read network metrices with network_type root name (e.g. allopezr_2d)\n",
    "network_history_file = os.path.join(paths.result_folder + 'history/', network_type + \"*_window_size_test.p\")\n",
    "network_history_files = glob.glob(network_history_file)\n",
    "\n",
    "network_file = os.path.join(paths.result_folder + 'network/', network_type + \"*_window_size_test_0.h5\")\n",
    "network_files = glob.glob(network_file)"
   ],
   "metadata": {
    "collapsed": false
   }
  },
  {
   "cell_type": "code",
   "execution_count": 120,
   "outputs": [],
   "source": [
    "training_time = []\n",
    "capacity = []\n",
    "\n",
    "for (history_file, network_file) in zip(network_history_files, network_files):\n",
    "    # Load history with pickle\n",
    "    network_history = pickle.load(open(history_file, \"rb\"))\n",
    "    # Extract patch size from file name\n",
    "    file_name_strings = network_file.split(\"_\")\n",
    "    for string in file_name_strings:\n",
    "        if 'x' in string:\n",
    "            patch_size = int(string.split(\"x\")[0])\n",
    "            break\n",
    "\n",
    "    model = keras.models.load_model(network_file,\n",
    "                                custom_objects={'SpatialAttention': papers.aspn.SpatialAttention,\n",
    "                                                'SecondOrderPooling': papers.aspn.SecondOrderPooling})\n",
    "    model.num_params = model.count_params()\n",
    "\n",
    "    training_time.append((patch_size, network_history.get_training_time()))\n",
    "    capacity.append((patch_size, model.num_params))\n",
    "\n",
    "    del model\n",
    "    gc.collect()\n",
    "\n",
    "# Sort by patch size\n",
    "training_time.sort(key=lambda tup: tup[0])\n",
    "capacity.sort(key=lambda tup: tup[0])"
   ],
   "metadata": {
    "collapsed": false
   }
  },
  {
   "cell_type": "code",
   "execution_count": 156,
   "outputs": [
    {
     "name": "stdout",
     "output_type": "stream",
     "text": [
      "[(9, 2004.076565504074), (11, 2118.0847680568695), (13, 2242.564688682556), (15, 1929.426745891571), (17, 2182.2053561210632), (19, 2428.403886795044), (21, 2723.6629133224487), (23, 3083.630040884018), (25, 3502.1302626132965), (27, 4033.917908191681), (29, 4622.471698284149), (31, 5505.049726724625)]\n",
      "[(9, 378635), (11, 378715), (13, 378811), (15, 378923), (17, 396331), (19, 396475), (21, 396635), (23, 396811), (25, 421195), (27, 421403), (29, 421627), (31, 421867)]\n"
     ]
    },
    {
     "data": {
      "text/plain": "<Figure size 700x400 with 2 Axes>",
      "image/png": "[encoded data removed]"
     },
     "metadata": {},
     "output_type": "display_data"
    }
   ],
   "source": [
    "render_time_capacity(training_time, capacity, title=\"a) Red varieties\")"
   ],
   "metadata": {
    "collapsed": false
   }
  },
  {
   "cell_type": "markdown",
   "source": [
    "## Ablation study"
   ],
   "metadata": {
    "collapsed": false
   }
  },
  {
   "cell_type": "code",
   "execution_count": 161,
   "outputs": [
    {
     "name": "stdout",
     "output_type": "stream",
     "text": [
      "------------- no_input_convs -------------\n",
      "Overall accuracy: 0.9392145659543673 +- 0.008528221622165622\n",
      "Average accuracy: 0.9392145659543673 +- 0.008528221622165622\n",
      "Kappa loss: 0.9228060306151755 +- 0.014266322536730857\n",
      "F1 score: 0.94236550173475 +- 0.007409180639645223\n",
      "ROC AUC score: 0.9978302843715031 +- 0.00033857100033728225\n",
      "None\n",
      "------------- naive_exception -------------\n",
      "Overall accuracy: 0.9705557460099797 +- 0.0013117872515691594\n",
      "Average accuracy: 0.9705557460099797 +- 0.0013117872515691987\n",
      "Kappa loss: 0.9725160058710891 +- 0.0013935260745368773\n",
      "F1 score: 0.9705631476372242 +- 0.0013129869454663484\n",
      "ROC AUC score: 0.9984684926094477 +- 0.0001221284057733097\n",
      "None\n",
      "------------- advanced_exception -------------\n",
      "Overall accuracy: 0.9765664876395078 +- 0.001081244505341752\n",
      "Average accuracy: 0.9765664876395078 +- 0.0010812445053417564\n",
      "Kappa loss: 0.9746093766197825 +- 0.0022321006420635376\n",
      "F1 score: 0.9766544918508572 +- 0.0010805677726055736\n",
      "ROC AUC score: 0.9987877907248919 +- 0.0001147135262502585\n",
      "None\n",
      "------------- no_attention -------------\n",
      "Overall accuracy: 0.9742810345484326 +- 0.0010690992475790937\n",
      "Average accuracy: 0.9742810345484326 +- 0.0010690992475790094\n",
      "Kappa loss: 0.9740583441873445 +- 0.001786061720673825\n",
      "F1 score: 0.974273852801273 +- 0.001064767478474497\n",
      "ROC AUC score: 0.9986023000639553 +- 0.00012042706209535435\n",
      "None\n"
     ]
    }
   ],
   "source": [
    "ablation_suffix = [\"no_input_convs\", \"naive_exception\", \"advanced_exception\", \"no_attention\"]\n",
    "\n",
    "# Search files with ablation suffixes in metrics folder\n",
    "ablation_metrics_files = []\n",
    "for suffix in ablation_suffix:\n",
    "    ablation_metrics_file = os.path.join(paths.result_folder + 'metrics/', network_type + \"*_\" + suffix + \".p\")\n",
    "    ablation_metrics_files.append(glob.glob(ablation_metrics_file))\n",
    "\n",
    "for (ablation_label, metric_file) in zip(ablation_suffix, ablation_metrics_files):\n",
    "    # Load history with pickle\n",
    "    print('------------- ' + ablation_label + ' -------------')\n",
    "    network_metrics = pickle.load(open(metric_file[0], \"rb\"))\n",
    "    print(network_metrics.print_metrics())"
   ],
   "metadata": {
    "collapsed": false
   }
  },
  {
   "cell_type": "markdown",
   "source": [
    "# History time and num parameters"
   ],
   "metadata": {
    "collapsed": false
   }
  },
  {
   "cell_type": "code",
   "execution_count": 28,
   "outputs": [
    {
     "name": "stdout",
     "output_type": "stream",
     "text": [
      "allopezr_2d\n",
      "lt_cnn\n",
      "nezami\n",
      "jigsaw_hsi\n",
      "spectral_net\n",
      "Error loading model\n",
      "hybrid_sn\n",
      "aspn\n",
      "Error loading model\n"
     ]
    }
   ],
   "source": [
    "from keras.layers import Lambda\n",
    "import papers.spectral_net\n",
    "\n",
    "network_types = [ 'allopezr_2d', 'lt_cnn', 'nezami', 'jigsaw_hsi', 'spectral_net', 'hybrid_sn', 'aspn']\n",
    "network_label = ['Ours', 'Lt-CNN', 'Nezami et al.', 'Jigsaw HSI', 'SpectralNet', 'HybridSN', 'ASPN']\n",
    "num_params_typeset = [0, 0, 0, 0, 1, 0, 0]\n",
    "training_time = []\n",
    "num_params = []\n",
    "\n",
    "for network_type in network_types:\n",
    "    print(network_type)\n",
    "    read_json_config(paths.config_file, network_type=network_type)\n",
    "    network_name = get_name(network_type)\n",
    "\n",
    "    # read history pickle file\n",
    "    history_files = glob.glob(os.path.join(paths.result_folder + 'history/', network_name + \".p\"))\n",
    "    for history_file in history_files:\n",
    "        history = pickle.load(open(history_file, \"rb\"))\n",
    "        training_time.append(history.get_training_time())\n",
    "\n",
    "    # read network pickle file\n",
    "    network_files = glob.glob(os.path.join(paths.result_folder + 'network/', network_name + \"*.h5\"))\n",
    "    for network_file in network_files:\n",
    "        try:\n",
    "            model = keras.models.load_model(network_file,\n",
    "                                        custom_objects={'SpatialAttention': papers.aspn.SpatialAttention,\n",
    "                                                        'SecondOrderPooling': papers.aspn.SecondOrderPooling})\n",
    "            model.num_params = model.count_params()\n",
    "            num_params.append(model.num_params)\n",
    "\n",
    "            del model\n",
    "            gc.collect()\n",
    "            break\n",
    "        except:\n",
    "            print(\"Error loading model\")\n",
    "            num_params.append(num_params_typeset[network_types.index(network_type)])\n",
    "            break"
   ],
   "metadata": {
    "collapsed": false
   }
  },
  {
   "cell_type": "code",
   "execution_count": 29,
   "outputs": [
    {
     "name": "stdout",
     "output_type": "stream",
     "text": [
      "[3071.7213191986084, 6636.490574121475, 1617.1864354610443, 12388.88419175148, 2800.2498574256897, 9112.425887346268, 487.5686295032501]\n",
      "[396811, 3124401, 40539, 28267659, 1, 5121273, 0]\n"
     ]
    }
   ],
   "source": [
    "print(training_time)\n",
    "print(num_params)"
   ],
   "metadata": {
    "collapsed": false
   }
  },
  {
   "cell_type": "code",
   "execution_count": 35,
   "outputs": [
    {
     "data": {
      "text/plain": "<Figure size 700x400 with 2 Axes>",
      "image/png": "[encoded data removed]"
     },
     "metadata": {},
     "output_type": "display_data"
    }
   ],
   "source": [
    "render_network_training(network_label, training_time, num_params, title=\"a) Red varieties\")"
   ],
   "metadata": {
    "collapsed": false
   }
  },
  {
   "cell_type": "markdown",
   "source": [
    "# Spatial labelling"
   ],
   "metadata": {
    "collapsed": false
   }
  },
  {
   "cell_type": "code",
   "execution_count": 37,
   "outputs": [
    {
     "name": "stdout",
     "output_type": "stream",
     "text": [
      "Reading media/Mateus_2022/Area01\\raw_112_rf.hdr ...\n",
      "Reading media/Mateus_2022/Area01\\raw_1984_rf.hdr ...\n",
      "Reading media/Mateus_2022/Area01\\raw_3904_rf.hdr ...\n",
      "Reading media/Mateus_2022/Area01\\raw_5744_rf.hdr ...\n",
      "Reading media/Mateus_2022/Area01\\raw_7584_rf.hdr ...\n",
      "Min: 0.006377667188644409, Max: 0.16416394710540771, Size: (1840, 3200, 223)\n",
      "|████████████████████████████████████████| 313709/313709 [100%] in 1.4s (224893.69/s)                                   \n",
      "(5888000, 223)\n",
      "(5888000,)\n",
      "on 0: (0, 223)                                                                                                          \n",
      "|⚠︎                                       | (!) 0/2 [0%] in 0.0s (0.00/s)                                                \n"
     ]
    },
    {
     "ename": "ValueError",
     "evalue": "Found array with 0 sample(s) (shape=(0, 223)) while a minimum of 1 is required by FactorAnalysis.",
     "output_type": "error",
     "traceback": [
      "\u001B[1;31m---------------------------------------------------------------------------\u001B[0m",
      "\u001B[1;31mValueError\u001B[0m                                Traceback (most recent call last)",
      "Cell \u001B[1;32mIn [37], line 12\u001B[0m\n\u001B[0;32m     10\u001B[0m X_train_01, y_train_01 \u001B[38;5;241m=\u001B[39m hc_set\u001B[38;5;241m.\u001B[39msplit_train(patch_size\u001B[38;5;241m=\u001B[39mconfig\u001B[38;5;241m.\u001B[39mpatch_size)\n\u001B[0;32m     11\u001B[0m y_train_01_reduced \u001B[38;5;241m=\u001B[39m reduce_labels_center(y_train_01)\n\u001B[1;32m---> 12\u001B[0m \u001B[43mhc_set\u001B[49m\u001B[38;5;241;43m.\u001B[39;49m\u001B[43mstandardize\u001B[49m\u001B[43m(\u001B[49m\u001B[43m)\u001B[49m\n",
      "File \u001B[1;32m~\\Documents\\GitHub\\VineyardUAVClassification\\hypercube_set.py:352\u001B[0m, in \u001B[0;36mHypercubeSet.standardize\u001B[1;34m(self, num_features, standardize, selection_method)\u001B[0m\n\u001B[0;32m    349\u001B[0m \u001B[38;5;28mprint\u001B[39m(\u001B[38;5;28mself\u001B[39m\u001B[38;5;241m.\u001B[39m_mask\u001B[38;5;241m.\u001B[39mshape)\n\u001B[0;32m    351\u001B[0m \u001B[38;5;28;01mwith\u001B[39;00m alive_bar(\u001B[38;5;241m2\u001B[39m, force_tty\u001B[38;5;241m=\u001B[39m\u001B[38;5;28;01mTrue\u001B[39;00m) \u001B[38;5;28;01mas\u001B[39;00m bar:\n\u001B[1;32m--> 352\u001B[0m     reduction \u001B[38;5;241m=\u001B[39m \u001B[38;5;28;43mself\u001B[39;49m\u001B[38;5;241;43m.\u001B[39;49m\u001B[43mreduce_layers\u001B[49m\u001B[43m(\u001B[49m\u001B[43mn_layers\u001B[49m\u001B[38;5;241;43m=\u001B[39;49m\u001B[43mnum_features\u001B[49m\u001B[43m,\u001B[49m\u001B[43m \u001B[49m\u001B[43mselection_method\u001B[49m\u001B[38;5;241;43m=\u001B[39;49m\u001B[43mselection_method\u001B[49m\u001B[43m,\u001B[49m\n\u001B[0;32m    353\u001B[0m \u001B[43m                                   \u001B[49m\u001B[43mhypercube\u001B[49m\u001B[38;5;241;43m=\u001B[39;49m\u001B[38;5;28;43mself\u001B[39;49m\u001B[38;5;241;43m.\u001B[39;49m\u001B[43m_hypercube\u001B[49m\u001B[43m[\u001B[49m\u001B[38;5;28;43mself\u001B[39;49m\u001B[38;5;241;43m.\u001B[39;49m\u001B[43m_train_indices\u001B[49m\u001B[43m]\u001B[49m\u001B[43m,\u001B[49m\n\u001B[0;32m    354\u001B[0m \u001B[43m                                   \u001B[49m\u001B[43mmask\u001B[49m\u001B[38;5;241;43m=\u001B[39;49m\u001B[38;5;28;43mself\u001B[39;49m\u001B[38;5;241;43m.\u001B[39;49m\u001B[43m_mask\u001B[49m\u001B[43m[\u001B[49m\u001B[38;5;28;43mself\u001B[39;49m\u001B[38;5;241;43m.\u001B[39;49m\u001B[43m_train_indices\u001B[49m\u001B[43m]\u001B[49m\u001B[43m)\u001B[49m\n\u001B[0;32m    355\u001B[0m     \u001B[38;5;28mself\u001B[39m\u001B[38;5;241m.\u001B[39m_hypercube \u001B[38;5;241m=\u001B[39m reduction\u001B[38;5;241m.\u001B[39mtransform(\u001B[38;5;28mself\u001B[39m\u001B[38;5;241m.\u001B[39m_hypercube)\n\u001B[0;32m    357\u001B[0m     bar()\n",
      "File \u001B[1;32m~\\Documents\\GitHub\\VineyardUAVClassification\\hypercube_set.py:234\u001B[0m, in \u001B[0;36mHypercubeSet.reduce_layers\u001B[1;34m(hypercube, mask, n_layers, selection_method)\u001B[0m\n\u001B[0;32m    232\u001B[0m     reduction\u001B[38;5;241m.\u001B[39mfit(hypercube, y\u001B[38;5;241m=\u001B[39mmask)\n\u001B[0;32m    233\u001B[0m \u001B[38;5;28;01melse\u001B[39;00m:\n\u001B[1;32m--> 234\u001B[0m     \u001B[43mreduction\u001B[49m\u001B[38;5;241;43m.\u001B[39;49m\u001B[43mfit\u001B[49m\u001B[43m(\u001B[49m\u001B[43mhypercube\u001B[49m\u001B[43m)\u001B[49m\n\u001B[0;32m    236\u001B[0m \u001B[38;5;28;01mreturn\u001B[39;00m reduction\n",
      "File \u001B[1;32m~\\Documents\\GitHub\\VineyardUAVClassification\\venv\\lib\\site-packages\\sklearn\\decomposition\\_factor_analysis.py:209\u001B[0m, in \u001B[0;36mFactorAnalysis.fit\u001B[1;34m(self, X, y)\u001B[0m\n\u001B[0;32m    203\u001B[0m \u001B[38;5;28;01mif\u001B[39;00m \u001B[38;5;28mself\u001B[39m\u001B[38;5;241m.\u001B[39msvd_method \u001B[38;5;129;01mnot\u001B[39;00m \u001B[38;5;129;01min\u001B[39;00m [\u001B[38;5;124m\"\u001B[39m\u001B[38;5;124mlapack\u001B[39m\u001B[38;5;124m\"\u001B[39m, \u001B[38;5;124m\"\u001B[39m\u001B[38;5;124mrandomized\u001B[39m\u001B[38;5;124m\"\u001B[39m]:\n\u001B[0;32m    204\u001B[0m     \u001B[38;5;28;01mraise\u001B[39;00m \u001B[38;5;167;01mValueError\u001B[39;00m(\n\u001B[0;32m    205\u001B[0m         \u001B[38;5;124mf\u001B[39m\u001B[38;5;124m\"\u001B[39m\u001B[38;5;124mSVD method \u001B[39m\u001B[38;5;132;01m{\u001B[39;00m\u001B[38;5;28mself\u001B[39m\u001B[38;5;241m.\u001B[39msvd_method\u001B[38;5;132;01m!r}\u001B[39;00m\u001B[38;5;124m is not supported. Possible methods \u001B[39m\u001B[38;5;124m\"\u001B[39m\n\u001B[0;32m    206\u001B[0m         \u001B[38;5;124m\"\u001B[39m\u001B[38;5;124mare either \u001B[39m\u001B[38;5;124m'\u001B[39m\u001B[38;5;124mlapack\u001B[39m\u001B[38;5;124m'\u001B[39m\u001B[38;5;124m or \u001B[39m\u001B[38;5;124m'\u001B[39m\u001B[38;5;124mrandomized\u001B[39m\u001B[38;5;124m'\u001B[39m\u001B[38;5;124m.\u001B[39m\u001B[38;5;124m\"\u001B[39m\n\u001B[0;32m    207\u001B[0m     )\n\u001B[1;32m--> 209\u001B[0m X \u001B[38;5;241m=\u001B[39m \u001B[38;5;28;43mself\u001B[39;49m\u001B[38;5;241;43m.\u001B[39;49m\u001B[43m_validate_data\u001B[49m\u001B[43m(\u001B[49m\u001B[43mX\u001B[49m\u001B[43m,\u001B[49m\u001B[43m \u001B[49m\u001B[43mcopy\u001B[49m\u001B[38;5;241;43m=\u001B[39;49m\u001B[38;5;28;43mself\u001B[39;49m\u001B[38;5;241;43m.\u001B[39;49m\u001B[43mcopy\u001B[49m\u001B[43m,\u001B[49m\u001B[43m \u001B[49m\u001B[43mdtype\u001B[49m\u001B[38;5;241;43m=\u001B[39;49m\u001B[43mnp\u001B[49m\u001B[38;5;241;43m.\u001B[39;49m\u001B[43mfloat64\u001B[49m\u001B[43m)\u001B[49m\n\u001B[0;32m    211\u001B[0m n_samples, n_features \u001B[38;5;241m=\u001B[39m X\u001B[38;5;241m.\u001B[39mshape\n\u001B[0;32m    212\u001B[0m n_components \u001B[38;5;241m=\u001B[39m \u001B[38;5;28mself\u001B[39m\u001B[38;5;241m.\u001B[39mn_components\n",
      "File \u001B[1;32m~\\Documents\\GitHub\\VineyardUAVClassification\\venv\\lib\\site-packages\\sklearn\\base.py:577\u001B[0m, in \u001B[0;36mBaseEstimator._validate_data\u001B[1;34m(self, X, y, reset, validate_separately, **check_params)\u001B[0m\n\u001B[0;32m    575\u001B[0m     \u001B[38;5;28;01mraise\u001B[39;00m \u001B[38;5;167;01mValueError\u001B[39;00m(\u001B[38;5;124m\"\u001B[39m\u001B[38;5;124mValidation should be done on X, y or both.\u001B[39m\u001B[38;5;124m\"\u001B[39m)\n\u001B[0;32m    576\u001B[0m \u001B[38;5;28;01melif\u001B[39;00m \u001B[38;5;129;01mnot\u001B[39;00m no_val_X \u001B[38;5;129;01mand\u001B[39;00m no_val_y:\n\u001B[1;32m--> 577\u001B[0m     X \u001B[38;5;241m=\u001B[39m check_array(X, input_name\u001B[38;5;241m=\u001B[39m\u001B[38;5;124m\"\u001B[39m\u001B[38;5;124mX\u001B[39m\u001B[38;5;124m\"\u001B[39m, \u001B[38;5;241m*\u001B[39m\u001B[38;5;241m*\u001B[39mcheck_params)\n\u001B[0;32m    578\u001B[0m     out \u001B[38;5;241m=\u001B[39m X\n\u001B[0;32m    579\u001B[0m \u001B[38;5;28;01melif\u001B[39;00m no_val_X \u001B[38;5;129;01mand\u001B[39;00m \u001B[38;5;129;01mnot\u001B[39;00m no_val_y:\n",
      "File \u001B[1;32m~\\Documents\\GitHub\\VineyardUAVClassification\\venv\\lib\\site-packages\\sklearn\\utils\\validation.py:909\u001B[0m, in \u001B[0;36mcheck_array\u001B[1;34m(array, accept_sparse, accept_large_sparse, dtype, order, copy, force_all_finite, ensure_2d, allow_nd, ensure_min_samples, ensure_min_features, estimator, input_name)\u001B[0m\n\u001B[0;32m    907\u001B[0m     n_samples \u001B[38;5;241m=\u001B[39m _num_samples(array)\n\u001B[0;32m    908\u001B[0m     \u001B[38;5;28;01mif\u001B[39;00m n_samples \u001B[38;5;241m<\u001B[39m ensure_min_samples:\n\u001B[1;32m--> 909\u001B[0m         \u001B[38;5;28;01mraise\u001B[39;00m \u001B[38;5;167;01mValueError\u001B[39;00m(\n\u001B[0;32m    910\u001B[0m             \u001B[38;5;124m\"\u001B[39m\u001B[38;5;124mFound array with \u001B[39m\u001B[38;5;132;01m%d\u001B[39;00m\u001B[38;5;124m sample(s) (shape=\u001B[39m\u001B[38;5;132;01m%s\u001B[39;00m\u001B[38;5;124m) while a\u001B[39m\u001B[38;5;124m\"\u001B[39m\n\u001B[0;32m    911\u001B[0m             \u001B[38;5;124m\"\u001B[39m\u001B[38;5;124m minimum of \u001B[39m\u001B[38;5;132;01m%d\u001B[39;00m\u001B[38;5;124m is required\u001B[39m\u001B[38;5;132;01m%s\u001B[39;00m\u001B[38;5;124m.\u001B[39m\u001B[38;5;124m\"\u001B[39m\n\u001B[0;32m    912\u001B[0m             \u001B[38;5;241m%\u001B[39m (n_samples, array\u001B[38;5;241m.\u001B[39mshape, ensure_min_samples, context)\n\u001B[0;32m    913\u001B[0m         )\n\u001B[0;32m    915\u001B[0m \u001B[38;5;28;01mif\u001B[39;00m ensure_min_features \u001B[38;5;241m>\u001B[39m \u001B[38;5;241m0\u001B[39m \u001B[38;5;129;01mand\u001B[39;00m array\u001B[38;5;241m.\u001B[39mndim \u001B[38;5;241m==\u001B[39m \u001B[38;5;241m2\u001B[39m:\n\u001B[0;32m    916\u001B[0m     n_features \u001B[38;5;241m=\u001B[39m array\u001B[38;5;241m.\u001B[39mshape[\u001B[38;5;241m1\u001B[39m]\n",
      "\u001B[1;31mValueError\u001B[0m: Found array with 0 sample(s) (shape=(0, 223)) while a minimum of 1 is required by FactorAnalysis."
     ]
    }
   ],
   "source": [
    "network_type = 'allopezr_2d'\n",
    "read_json_config(paths.config_file, network_type=network_type)\n",
    "network_name = get_name(network_type)"
   ],
   "metadata": {
    "collapsed": false
   }
  },
  {
   "cell_type": "code",
   "execution_count": 40,
   "outputs": [
    {
     "name": "stdout",
     "output_type": "stream",
     "text": [
      "Reading media/Mateus_2022/Area01\\raw_112_rf.hdr ...\n",
      "Reading media/Mateus_2022/Area01\\raw_1984_rf.hdr ...\n",
      "Reading media/Mateus_2022/Area01\\raw_3904_rf.hdr ...\n",
      "Reading media/Mateus_2022/Area01\\raw_5744_rf.hdr ...\n",
      "Reading media/Mateus_2022/Area01\\raw_7584_rf.hdr ...\n",
      "Min: 0.006377667188644409, Max: 0.16416394710540771, Size: (1840, 3200, 223)\n",
      "(5888000, 223)\n",
      "(5888000,)\n",
      "on 0: (274495, 223)                                                                                                     \n",
      "|████████████████████████████████████████| 2/2 [100%] in 39.7s (0.03/s)                                                 0%] in 19s (~0s, 0.0/s) \n"
     ]
    }
   ],
   "source": [
    "hc_set = HypercubeSet(hc_array=load_hypercubes(plot_hc=False, plot_mask=False, n_max_cubes=2e32))\n",
    "hc_set.print_metadata()\n",
    "hc_set.obtain_ground_labels()\n",
    "hc_set.obtain_train_indices(test_percentage=config.test_split, patch_size=config.patch_size,\n",
    "                            patch_overlapping=config.patch_overlapping)\n",
    "hc_set.standardize(num_features=config.num_target_features, selection_method=LayerSelectionMethod.FACTOR_ANALYSIS)"
   ],
   "metadata": {
    "collapsed": false
   }
  },
  {
   "cell_type": "code",
   "execution_count": 41,
   "outputs": [],
   "source": [
    "# Load network\n",
    "network_file = os.path.join(paths.result_folder + 'network/', network_name + \"_0.h5\")\n",
    "model = keras.models.load_model(network_file,\n",
    "                            custom_objects={'SpatialAttention': papers.aspn.SpatialAttention,\n",
    "                                            'SecondOrderPooling': papers.aspn.SecondOrderPooling})"
   ],
   "metadata": {
    "collapsed": false
   }
  },
  {
   "cell_type": "code",
   "execution_count": 46,
   "outputs": [
    {
     "name": "stdout",
     "output_type": "stream",
     "text": [
      "Processing hypercube 0\n",
      "|████████████████████████████████████████| 50000/50000 [100%] in 0.2s (363213.59/s)                                     \n",
      "1294/1294 [==============================] - 5s 4ms/step\n",
      "|████████████████████████████████████████| 50000/50000 [100%] in 0.2s (238373.15/s)                                     \n",
      "1507/1507 [==============================] - 8s 5ms/step\n",
      "|████████████████████████████████████████| 50000/50000 [100%] in 0.2s (226122.75/s)                                     \n",
      "1507/1507 [==============================] - 411s 273ms/step\n",
      "|████████████████████████████████████████| 50000/50000 [100%] in 0.2s (239664.71/s)                                     \n",
      "  14/1507 [..............................] - ETA: 3:25:13"
     ]
    },
    {
     "ename": "KeyboardInterrupt",
     "evalue": "",
     "output_type": "error",
     "traceback": [
      "\u001B[1;31m---------------------------------------------------------------------------\u001B[0m",
      "\u001B[1;31mKeyboardInterrupt\u001B[0m                         Traceback (most recent call last)",
      "Cell \u001B[1;32mIn [46], line 19\u001B[0m\n\u001B[0;32m     16\u001B[0m     \u001B[38;5;28;01mcontinue\u001B[39;00m\n\u001B[0;32m     18\u001B[0m y_train_swath \u001B[38;5;241m=\u001B[39m reduce_labels_center(y_train_swath)\n\u001B[1;32m---> 19\u001B[0m predicted_labels \u001B[38;5;241m=\u001B[39m \u001B[43mmodel\u001B[49m\u001B[38;5;241;43m.\u001B[39;49m\u001B[43mpredict\u001B[49m\u001B[43m(\u001B[49m\u001B[43mX_train_swath\u001B[49m\u001B[43m)\u001B[49m\n\u001B[0;32m     20\u001B[0m predicted_labels \u001B[38;5;241m=\u001B[39m np\u001B[38;5;241m.\u001B[39margmax(predicted_labels, axis\u001B[38;5;241m=\u001B[39m\u001B[38;5;241m1\u001B[39m)\n\u001B[0;32m     22\u001B[0m \u001B[38;5;28;01mif\u001B[39;00m predicted_swath \u001B[38;5;129;01mis\u001B[39;00m \u001B[38;5;28;01mNone\u001B[39;00m:\n",
      "File \u001B[1;32m~\\Documents\\GitHub\\VineyardUAVClassification\\venv\\lib\\site-packages\\keras\\utils\\traceback_utils.py:65\u001B[0m, in \u001B[0;36mfilter_traceback.<locals>.error_handler\u001B[1;34m(*args, **kwargs)\u001B[0m\n\u001B[0;32m     63\u001B[0m filtered_tb \u001B[38;5;241m=\u001B[39m \u001B[38;5;28;01mNone\u001B[39;00m\n\u001B[0;32m     64\u001B[0m \u001B[38;5;28;01mtry\u001B[39;00m:\n\u001B[1;32m---> 65\u001B[0m     \u001B[38;5;28;01mreturn\u001B[39;00m fn(\u001B[38;5;241m*\u001B[39margs, \u001B[38;5;241m*\u001B[39m\u001B[38;5;241m*\u001B[39mkwargs)\n\u001B[0;32m     66\u001B[0m \u001B[38;5;28;01mexcept\u001B[39;00m \u001B[38;5;167;01mException\u001B[39;00m \u001B[38;5;28;01mas\u001B[39;00m e:\n\u001B[0;32m     67\u001B[0m     filtered_tb \u001B[38;5;241m=\u001B[39m _process_traceback_frames(e\u001B[38;5;241m.\u001B[39m__traceback__)\n",
      "File \u001B[1;32m~\\Documents\\GitHub\\VineyardUAVClassification\\venv\\lib\\site-packages\\keras\\engine\\training.py:2251\u001B[0m, in \u001B[0;36mModel.predict\u001B[1;34m(self, x, batch_size, verbose, steps, callbacks, max_queue_size, workers, use_multiprocessing)\u001B[0m\n\u001B[0;32m   2249\u001B[0m \u001B[38;5;28;01mfor\u001B[39;00m _, iterator \u001B[38;5;129;01min\u001B[39;00m data_handler\u001B[38;5;241m.\u001B[39menumerate_epochs():  \u001B[38;5;66;03m# Single epoch.\u001B[39;00m\n\u001B[0;32m   2250\u001B[0m     \u001B[38;5;28;01mwith\u001B[39;00m data_handler\u001B[38;5;241m.\u001B[39mcatch_stop_iteration():\n\u001B[1;32m-> 2251\u001B[0m         \u001B[38;5;28;01mfor\u001B[39;00m step \u001B[38;5;129;01min\u001B[39;00m data_handler\u001B[38;5;241m.\u001B[39msteps():\n\u001B[0;32m   2252\u001B[0m             callbacks\u001B[38;5;241m.\u001B[39mon_predict_batch_begin(step)\n\u001B[0;32m   2253\u001B[0m             tmp_batch_outputs \u001B[38;5;241m=\u001B[39m \u001B[38;5;28mself\u001B[39m\u001B[38;5;241m.\u001B[39mpredict_function(iterator)\n",
      "File \u001B[1;32m~\\Documents\\GitHub\\VineyardUAVClassification\\venv\\lib\\site-packages\\keras\\engine\\data_adapter.py:1374\u001B[0m, in \u001B[0;36mDataHandler.steps\u001B[1;34m(self)\u001B[0m\n\u001B[0;32m   1372\u001B[0m \u001B[38;5;28;01mif\u001B[39;00m \u001B[38;5;28mself\u001B[39m\u001B[38;5;241m.\u001B[39m_insufficient_data:  \u001B[38;5;66;03m# Set by `catch_stop_iteration`.\u001B[39;00m\n\u001B[0;32m   1373\u001B[0m     \u001B[38;5;28;01mbreak\u001B[39;00m\n\u001B[1;32m-> 1374\u001B[0m original_spe \u001B[38;5;241m=\u001B[39m \u001B[38;5;28;43mself\u001B[39;49m\u001B[38;5;241;43m.\u001B[39;49m\u001B[43m_steps_per_execution\u001B[49m\u001B[38;5;241;43m.\u001B[39;49m\u001B[43mnumpy\u001B[49m\u001B[43m(\u001B[49m\u001B[43m)\u001B[49m\u001B[38;5;241m.\u001B[39mitem()\n\u001B[0;32m   1375\u001B[0m can_run_full_execution \u001B[38;5;241m=\u001B[39m (\n\u001B[0;32m   1376\u001B[0m     original_spe \u001B[38;5;241m==\u001B[39m \u001B[38;5;241m1\u001B[39m\n\u001B[0;32m   1377\u001B[0m     \u001B[38;5;129;01mor\u001B[39;00m \u001B[38;5;28mself\u001B[39m\u001B[38;5;241m.\u001B[39m_inferred_steps \u001B[38;5;129;01mis\u001B[39;00m \u001B[38;5;28;01mNone\u001B[39;00m\n\u001B[0;32m   1378\u001B[0m     \u001B[38;5;129;01mor\u001B[39;00m \u001B[38;5;28mself\u001B[39m\u001B[38;5;241m.\u001B[39m_inferred_steps \u001B[38;5;241m-\u001B[39m \u001B[38;5;28mself\u001B[39m\u001B[38;5;241m.\u001B[39m_current_step \u001B[38;5;241m>\u001B[39m\u001B[38;5;241m=\u001B[39m original_spe\n\u001B[0;32m   1379\u001B[0m )\n\u001B[0;32m   1381\u001B[0m \u001B[38;5;28;01mif\u001B[39;00m can_run_full_execution:\n",
      "File \u001B[1;32m~\\Documents\\GitHub\\VineyardUAVClassification\\venv\\lib\\site-packages\\tensorflow\\python\\ops\\resource_variable_ops.py:637\u001B[0m, in \u001B[0;36mBaseResourceVariable.numpy\u001B[1;34m(self)\u001B[0m\n\u001B[0;32m    635\u001B[0m \u001B[38;5;28;01mdef\u001B[39;00m \u001B[38;5;21mnumpy\u001B[39m(\u001B[38;5;28mself\u001B[39m):\n\u001B[0;32m    636\u001B[0m   \u001B[38;5;28;01mif\u001B[39;00m context\u001B[38;5;241m.\u001B[39mexecuting_eagerly():\n\u001B[1;32m--> 637\u001B[0m     \u001B[38;5;28;01mreturn\u001B[39;00m \u001B[38;5;28;43mself\u001B[39;49m\u001B[38;5;241;43m.\u001B[39;49m\u001B[43mread_value\u001B[49m\u001B[43m(\u001B[49m\u001B[43m)\u001B[49m\u001B[38;5;241;43m.\u001B[39;49m\u001B[43mnumpy\u001B[49m\u001B[43m(\u001B[49m\u001B[43m)\u001B[49m\n\u001B[0;32m    638\u001B[0m   \u001B[38;5;28;01mraise\u001B[39;00m \u001B[38;5;167;01mNotImplementedError\u001B[39;00m(\n\u001B[0;32m    639\u001B[0m       \u001B[38;5;124m\"\u001B[39m\u001B[38;5;124mnumpy() is only available when eager execution is enabled.\u001B[39m\u001B[38;5;124m\"\u001B[39m)\n",
      "File \u001B[1;32m~\\Documents\\GitHub\\VineyardUAVClassification\\venv\\lib\\site-packages\\tensorflow\\python\\framework\\ops.py:1157\u001B[0m, in \u001B[0;36m_EagerTensorBase.numpy\u001B[1;34m(self)\u001B[0m\n\u001B[0;32m   1134\u001B[0m \u001B[38;5;124;03m\"\"\"Copy of the contents of this Tensor into a NumPy array or scalar.\u001B[39;00m\n\u001B[0;32m   1135\u001B[0m \n\u001B[0;32m   1136\u001B[0m \u001B[38;5;124;03mUnlike NumPy arrays, Tensors are immutable, so this method has to copy\u001B[39;00m\n\u001B[1;32m   (...)\u001B[0m\n\u001B[0;32m   1154\u001B[0m \u001B[38;5;124;03m    NumPy dtype.\u001B[39;00m\n\u001B[0;32m   1155\u001B[0m \u001B[38;5;124;03m\"\"\"\u001B[39;00m\n\u001B[0;32m   1156\u001B[0m \u001B[38;5;66;03m# TODO(slebedev): Consider avoiding a copy for non-CPU or remote tensors.\u001B[39;00m\n\u001B[1;32m-> 1157\u001B[0m maybe_arr \u001B[38;5;241m=\u001B[39m \u001B[38;5;28;43mself\u001B[39;49m\u001B[38;5;241;43m.\u001B[39;49m\u001B[43m_numpy\u001B[49m\u001B[43m(\u001B[49m\u001B[43m)\u001B[49m  \u001B[38;5;66;03m# pylint: disable=protected-access\u001B[39;00m\n\u001B[0;32m   1158\u001B[0m \u001B[38;5;28;01mreturn\u001B[39;00m maybe_arr\u001B[38;5;241m.\u001B[39mcopy() \u001B[38;5;28;01mif\u001B[39;00m \u001B[38;5;28misinstance\u001B[39m(maybe_arr, np\u001B[38;5;241m.\u001B[39mndarray) \u001B[38;5;28;01melse\u001B[39;00m maybe_arr\n",
      "File \u001B[1;32m~\\Documents\\GitHub\\VineyardUAVClassification\\venv\\lib\\site-packages\\tensorflow\\python\\framework\\ops.py:1123\u001B[0m, in \u001B[0;36m_EagerTensorBase._numpy\u001B[1;34m(self)\u001B[0m\n\u001B[0;32m   1121\u001B[0m \u001B[38;5;28;01mdef\u001B[39;00m \u001B[38;5;21m_numpy\u001B[39m(\u001B[38;5;28mself\u001B[39m):\n\u001B[0;32m   1122\u001B[0m   \u001B[38;5;28;01mtry\u001B[39;00m:\n\u001B[1;32m-> 1123\u001B[0m     \u001B[38;5;28;01mreturn\u001B[39;00m \u001B[38;5;28;43mself\u001B[39;49m\u001B[38;5;241;43m.\u001B[39;49m\u001B[43m_numpy_internal\u001B[49m\u001B[43m(\u001B[49m\u001B[43m)\u001B[49m\n\u001B[0;32m   1124\u001B[0m   \u001B[38;5;28;01mexcept\u001B[39;00m core\u001B[38;5;241m.\u001B[39m_NotOkStatusException \u001B[38;5;28;01mas\u001B[39;00m e:  \u001B[38;5;66;03m# pylint: disable=protected-access\u001B[39;00m\n\u001B[0;32m   1125\u001B[0m     \u001B[38;5;28;01mraise\u001B[39;00m core\u001B[38;5;241m.\u001B[39m_status_to_exception(e) \u001B[38;5;28;01mfrom\u001B[39;00m \u001B[38;5;28mNone\u001B[39m\n",
      "\u001B[1;31mKeyboardInterrupt\u001B[0m: "
     ]
    }
   ],
   "source": [
    "batch_size = 50000\n",
    "num_hypercubes = hc_set.get_num_hypercubes()\n",
    "\n",
    "for i in range(num_hypercubes):\n",
    "    print(\"Processing hypercube \" + str(i))\n",
    "\n",
    "    predicted_swath = None\n",
    "    y_swath = None\n",
    "    num_processed_pixels = 0\n",
    "\n",
    "    while True:\n",
    "        X_train_swath, y_train_swath = hc_set.split_swath(patch_size=config.patch_size, patch_id=i, limit=batch_size, offset=num_processed_pixels)\n",
    "        if X_train_swath is None:\n",
    "            break\n",
    "        if X_train_swath.shape[0] == 0:\n",
    "            continue\n",
    "\n",
    "        y_train_swath = reduce_labels_center(y_train_swath)\n",
    "        predicted_labels = model.predict(X_train_swath)\n",
    "        predicted_labels = np.argmax(predicted_labels, axis=1)\n",
    "\n",
    "        if predicted_swath is None:\n",
    "            predicted_swath = predicted_labels\n",
    "            y_swath = y_train_swath\n",
    "        else:\n",
    "            predicted_swath = np.append(predicted_swath, predicted_labels)\n",
    "            y_swath = np.append(y_swath, y_train_swath)\n",
    "\n",
    "        num_processed_pixels += batch_size\n",
    "        del X_train_swath, y_train_swath, predicted_labels\n",
    "        gc.collect()\n",
    "\n",
    "    label_diff = hc_set.compose_swath_evaluation(y_swath, predicted_swath, patch_size=config.patch_size)\n",
    "    rendering.render_label_diff(label_diff, filename='swaths/' + 'red_' + str(i) + '.png')\n",
    "\n",
    "    del predicted_swath, y_swath\n",
    "    gc.collect()"
   ],
   "metadata": {
    "collapsed": false
   }
  }
 ],
 "metadata": {
  "kernelspec": {
   "display_name": "Python 3",
   "language": "python",
   "name": "python3"
  },
  "language_info": {
   "codemirror_mode": {
    "name": "ipython",
    "version": 2
   },
   "file_extension": ".py",
   "mimetype": "text/x-python",
   "name": "python",
   "nbconvert_exporter": "python",
   "pygments_lexer": "ipython2",
   "version": "2.7.6"
  }
 },
 "nbformat": 4,
 "nbformat_minor": 0
}
