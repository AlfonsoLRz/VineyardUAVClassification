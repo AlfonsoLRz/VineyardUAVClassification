{
 "cells": [
  {
   "cell_type": "code",
   "execution_count": 7,
   "metadata": {
    "collapsed": true
   },
   "outputs": [
    {
     "name": "stdout",
     "output_type": "stream",
     "text": [
      "The autoreload extension is already loaded. To reload it, use:\n",
      "  %reload_ext autoreload\n"
     ]
    }
   ],
   "source": [
    "import config\n",
    "from cnn_builder import *\n",
    "from dataset_functions import *\n",
    "import gc\n",
    "from hypercube_set import HypercubeSet\n",
    "from hypercube_loader import *\n",
    "import papers.aspn\n",
    "import glob\n",
    "import keras\n",
    "import os\n",
    "import paths\n",
    "import pickle\n",
    "from rendering import *\n",
    "\n",
    "os.environ[\"PATH\"] += os.pathsep + 'C:/Program Files/Graphviz/bin/'\n",
    "os.chdir(os.getcwd().split(\"jupyter\")[0])\n",
    "\n",
    "%load_ext autoreload\n",
    "%autoreload 2\n",
    "\n",
    "inf = 2e32"
   ]
  },
  {
   "cell_type": "code",
   "execution_count": 19,
   "outputs": [],
   "source": [
    "network_type = 'allopezr_2d'\n",
    "read_json_config(paths.config_file, network_type=network_type)\n",
    "network_name = get_name(network_type) + '_advanced_inception'"
   ],
   "metadata": {
    "collapsed": false
   }
  },
  {
   "cell_type": "code",
   "execution_count": 20,
   "outputs": [],
   "source": [
    "file = 'results/metrics/' + network_name + '.p'"
   ],
   "metadata": {
    "collapsed": false
   }
  },
  {
   "cell_type": "code",
   "execution_count": 21,
   "outputs": [
    {
     "name": "stdout",
     "output_type": "stream",
     "text": [
      "Overall accuracy: 0.9835200061058215 +- 0.0011495004644698768\n",
      "Average accuracy: 0.9911452045834516 +- 0.0004788076986199281\n",
      "Kappa loss: 0.9800905303858485 +- 0.002945926357286846\n",
      "F1 score: 0.9835222590281176 +- 0.0011513268001869007\n",
      "ROC AUC score: 0.9996336694940202 +- 3.300867492485073e-05\n"
     ]
    }
   ],
   "source": [
    "# Read with pickle\n",
    "with open(file, 'rb') as f:\n",
    "    metrics = pickle.load(f)\n",
    "    metrics.print_metrics()"
   ],
   "metadata": {
    "collapsed": false
   }
  }
 ],
 "metadata": {
  "kernelspec": {
   "display_name": "Python 3",
   "language": "python",
   "name": "python3"
  },
  "language_info": {
   "codemirror_mode": {
    "name": "ipython",
    "version": 2
   },
   "file_extension": ".py",
   "mimetype": "text/x-python",
   "name": "python",
   "nbconvert_exporter": "python",
   "pygments_lexer": "ipython2",
   "version": "2.7.6"
  }
 },
 "nbformat": 4,
 "nbformat_minor": 0
}
