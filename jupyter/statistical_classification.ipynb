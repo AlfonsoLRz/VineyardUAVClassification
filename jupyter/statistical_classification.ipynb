{
 "cells": [
  {
   "cell_type": "code",
   "execution_count": 2,
   "metadata": {
    "collapsed": true
   },
   "outputs": [],
   "source": [
    "import config\n",
    "from cnn_builder import *\n",
    "from dataset_functions import *\n",
    "import gc\n",
    "from hypercube_set import HypercubeSet\n",
    "from hypercube_loader import *\n",
    "import papers.aspn\n",
    "import glob\n",
    "import keras\n",
    "import numpy as np\n",
    "import os\n",
    "import paths\n",
    "import pickle\n",
    "import spectral_similarity.global_similarity_measures as gsm\n",
    "from rendering import *\n",
    "import sys\n",
    "\n",
    "os.environ[\"PATH\"] += os.pathsep + 'C:/Program Files/Graphviz/bin/'\n",
    "os.chdir(os.getcwd().split(\"jupyter\")[0])\n",
    "\n",
    "%load_ext autoreload\n",
    "%autoreload 2\n",
    "\n",
    "inf = 2e32"
   ]
  },
  {
   "cell_type": "code",
   "execution_count": 3,
   "outputs": [
    {
     "name": "stdout",
     "output_type": "stream",
     "text": [
      "Reading media/Mateus_2022/red\\raw_112_rf.hdr ...\n",
      "Reading media/Mateus_2022/red\\raw_1984_rf.hdr ...\n",
      "Reading media/Mateus_2022/red\\raw_3904_rf.hdr ...\n",
      "Reading media/Mateus_2022/red\\raw_5744_rf.hdr ...\n",
      "Reading media/Mateus_2022/red\\raw_7584_rf.hdr ...\n",
      "{(0, 0, 0): 0, (255, 128, 255): 1, (128, 128, 255): 2, (192, 128, 255): 3, (128, 255, 255): 4, (255, 128, 0): 5, (255, 255, 128): 6, (128, 255, 128): 7, (128, 255, 0): 8}\n",
      "Class 0.0 has 5345833 pixels.\n",
      "Class 1.0 has 144315 pixels.\n",
      "Class 2.0 has 67157 pixels.\n",
      "Class 3.0 has 75078 pixels.\n",
      "Class 4.0 has 35656 pixels.\n",
      "Class 5.0 has 53620 pixels.\n",
      "Class 6.0 has 71547 pixels.\n",
      "Class 7.0 has 36114 pixels.\n",
      "Class 8.0 has 58680 pixels.\n",
      "Min: 0.006377667188644409, Max: 0.16416394710540771, Size: (1840, 3200, 223)\n"
     ]
    }
   ],
   "source": [
    "hc_set = HypercubeSet(hc_array=load_hypercubes(plot_hc=False, plot_mask=False, n_max_cubes=inf))\n",
    "hc_set.print_metadata()"
   ],
   "metadata": {
    "collapsed": false
   }
  },
  {
   "cell_type": "code",
   "execution_count": 4,
   "outputs": [],
   "source": [
    "num_classes = hc_set.get_num_classes()\n",
    "num_classes -= 1\n",
    "img_shape = (config.patch_size, config.patch_size, config.num_target_features)\n",
    "\n",
    "X, y = hc_set.flatten()\n",
    "X, y = remove_labels(X, y, [num_classes])\n",
    "# Select 1000 random samples\n",
    "random_indices = np.random.choice(X.shape[0], 1000, replace=False)\n",
    "X = X[random_indices]\n",
    "y = y[random_indices]"
   ],
   "metadata": {
    "collapsed": false
   }
  },
  {
   "cell_type": "code",
   "execution_count": 9,
   "outputs": [
    {
     "name": "stdout",
     "output_type": "stream",
     "text": [
      "spectral_similarity.angular_measures.computeSAM\n",
      "Method 1: 969 mispredictions\n",
      "spectral_similarity.angular_measures.computeMAngE\n",
      "Method 2: 969 mispredictions\n",
      "spectral_similarity.angular_measures.computeAPPSA\n",
      "Method 3: 969 mispredictions\n",
      "spectral_similarity.similarity_measures.computeGFC\n",
      "Method 4: 969 mispredictions\n",
      "spectral_similarity.similarity_measures.computeMSSIM\n",
      "Method 5: 86 mispredictions\n",
      "spectral_similarity.error_measures.computeMSE\n",
      "Method 6: 969 mispredictions\n",
      "spectral_similarity.error_measures.computeRMSE\n",
      "Method 7: 969 mispredictions\n",
      "spectral_similarity.error_measures.computeMRAE\n",
      "Method 8: 969 mispredictions\n",
      "spectral_similarity.error_measures.computePSNR\n",
      "Method 9: 969 mispredictions\n",
      "spectral_similarity.other_measures.computeMSID\n",
      "Method 10: 969 mispredictions\n",
      "spectral_similarity.angular_measures.computeED\n",
      "Method 11: 969 mispredictions\n"
     ]
    }
   ],
   "source": [
    "for i in range(1, 12):\n",
    "    prediction = gsm.compute_similarity(X, y, method=i, multicore=False)\n",
    "    # Number of mispredictions\n",
    "    num_mispredictions = np.sum(np.abs(prediction - y) > 0.5)\n",
    "    print(\"Method %d: %d mispredictions\" % (i, num_mispredictions))"
   ],
   "metadata": {
    "collapsed": false
   }
  },
  {
   "cell_type": "code",
   "execution_count": null,
   "outputs": [],
   "source": [],
   "metadata": {
    "collapsed": false
   }
  }
 ],
 "metadata": {
  "kernelspec": {
   "display_name": "Python 3",
   "language": "python",
   "name": "python3"
  },
  "language_info": {
   "codemirror_mode": {
    "name": "ipython",
    "version": 2
   },
   "file_extension": ".py",
   "mimetype": "text/x-python",
   "name": "python",
   "nbconvert_exporter": "python",
   "pygments_lexer": "ipython2",
   "version": "2.7.6"
  }
 },
 "nbformat": 4,
 "nbformat_minor": 0
}
